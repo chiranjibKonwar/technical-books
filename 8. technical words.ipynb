{
 "cells": [
  {
   "cell_type": "markdown",
   "metadata": {},
   "source": [
    "# CLOUD COMPUTING SERVICES SELF EXPLANATORY STUDY\n",
    "\n",
    "## 1. AWS Services: \n",
    "\n",
    "You can find a comprehensive list of AWS services on the official AWS documentation page: https://aws.amazon.com/products/\n",
    "\n",
    "## 2. GCP Services:\n",
    "\n",
    "The official Google Cloud documentation provides a detailed list of GCP services: https://cloud.google.com/products\n",
    "\n",
    "## 3. Azure Services:\n",
    "\n",
    "Microsoft Azure offers a wide range of services, which can be explored on the official Azure documentation page: https://azure.microsoft.com/en-us/services/\n",
    "\n"
   ]
  },
  {
   "cell_type": "markdown",
   "metadata": {},
   "source": [
    "# AMAZON SERVICES ONLY"
   ]
  },
  {
   "cell_type": "code",
   "execution_count": null,
   "metadata": {},
   "outputs": [],
   "source": [
    "AWS IoT Core\n",
    "Easily and securely connect devices to the cloud"
   ]
  },
  {
   "cell_type": "code",
   "execution_count": null,
   "metadata": {},
   "outputs": [],
   "source": [
    "AWS IoT FleetWise\n",
    "Collect, transform, and transfer vehicle data to the cloud in near real time"
   ]
  },
  {
   "cell_type": "code",
   "execution_count": null,
   "metadata": {},
   "outputs": [],
   "source": [
    "AWS IoT SiteWise\n",
    "Collect, organize, and analyze data from industrial equipment at scale"
   ]
  },
  {
   "cell_type": "code",
   "execution_count": null,
   "metadata": {},
   "outputs": [],
   "source": [
    "AWS IoT TwinMaker\n",
    "Optimize operations by easily creating digital twins of real-world systems"
   ]
  },
  {
   "cell_type": "code",
   "execution_count": null,
   "metadata": {},
   "outputs": [],
   "source": [
    "AWS IoT Greengrass\n",
    "Build intelligent IoT devices faster"
   ]
  },
  {
   "cell_type": "code",
   "execution_count": null,
   "metadata": {},
   "outputs": [],
   "source": [
    "Alexa for Business\n",
    "Empower your organization with Alexa"
   ]
  },
  {
   "cell_type": "code",
   "execution_count": null,
   "metadata": {},
   "outputs": [],
   "source": [
    "Amazon API Gateway\n",
    "Build, deploy, and manage APIs"
   ]
  },
  {
   "cell_type": "code",
   "execution_count": null,
   "metadata": {},
   "outputs": [],
   "source": [
    "Amazon AppFlow\n",
    "No-code integration for SaaS apps & AWS services"
   ]
  },
  {
   "cell_type": "code",
   "execution_count": null,
   "metadata": {},
   "outputs": [],
   "source": [
    "Amazon AppStream 2.0\n",
    "Stream desktop applications securely to a browser"
   ]
  },
  {
   "cell_type": "code",
   "execution_count": null,
   "metadata": {},
   "outputs": [],
   "source": [
    "Amazon Athena\n",
    "Query data in S3 using SQL"
   ]
  },
  {
   "cell_type": "code",
   "execution_count": null,
   "metadata": {},
   "outputs": [],
   "source": [
    "Amazon Augmented AI\n",
    "Easily implement human review of ML predictions"
   ]
  },
  {
   "cell_type": "code",
   "execution_count": null,
   "metadata": {},
   "outputs": [],
   "source": [
    "Amazon Aurora\n",
    "High performance managed relational database"
   ]
  },
  {
   "cell_type": "code",
   "execution_count": null,
   "metadata": {},
   "outputs": [],
   "source": [
    "Amazon Bedrock\n",
    "Build with foundation models"
   ]
  },
  {
   "cell_type": "code",
   "execution_count": null,
   "metadata": {},
   "outputs": [],
   "source": [
    "Amazon Braket\n",
    "Accelerate quantum computing research"
   ]
  },
  {
   "cell_type": "code",
   "execution_count": null,
   "metadata": {},
   "outputs": [],
   "source": [
    "Amazon Chime\n",
    "Frustration-free meetings, video calls, and chat"
   ]
  },
  {
   "cell_type": "code",
   "execution_count": null,
   "metadata": {},
   "outputs": [],
   "source": [
    "Amazon Chime SDK\n",
    "Real-time messaging, audio, video, and screen sharing "
   ]
  },
  {
   "cell_type": "code",
   "execution_count": null,
   "metadata": {},
   "outputs": [],
   "source": [
    "Amazon CloudFront\n",
    "Global content delivery network"
   ]
  },
  {
   "cell_type": "code",
   "execution_count": null,
   "metadata": {},
   "outputs": [],
   "source": [
    "Amazon CloudSearch\n",
    "Managed search service"
   ]
  },
  {
   "cell_type": "code",
   "execution_count": null,
   "metadata": {},
   "outputs": [],
   "source": [
    "Amazon CloudWatch\n",
    "Monitor resources and applications"
   ]
  },
  {
   "cell_type": "code",
   "execution_count": null,
   "metadata": {},
   "outputs": [],
   "source": [
    "Amazon CodeCatalyst (Preview)\n",
    "Unified software development service for faster development and delivery on AWS"
   ]
  },
  {
   "cell_type": "code",
   "execution_count": null,
   "metadata": {},
   "outputs": [],
   "source": [
    "Amazon CodeGuru\n",
    "Find your most expensive lines of code"
   ]
  },
  {
   "cell_type": "code",
   "execution_count": null,
   "metadata": {},
   "outputs": [],
   "source": [
    "Amazon Cognito\n",
    "Identity management for your apps"
   ]
  },
  {
   "cell_type": "code",
   "execution_count": null,
   "metadata": {},
   "outputs": [],
   "source": [
    "Amazon Comprehend\n",
    "Discover insights and relationships in text"
   ]
  },
  {
   "cell_type": "code",
   "execution_count": null,
   "metadata": {},
   "outputs": [],
   "source": [
    "Amazon Connect\n",
    "Omnichannel cloud contact center"
   ]
  },
  {
   "cell_type": "code",
   "execution_count": null,
   "metadata": {},
   "outputs": [],
   "source": [
    "Amazon Corretto\n",
    "Production-ready distribution of OpenJDK"
   ]
  },
  {
   "cell_type": "code",
   "execution_count": null,
   "metadata": {},
   "outputs": [],
   "source": [
    "Amazon DataZone (Preview)\n",
    "Unlock data across organizational boundaries with built-in governance"
   ]
  },
  {
   "cell_type": "code",
   "execution_count": null,
   "metadata": {},
   "outputs": [],
   "source": [
    "Amazon Detective\n",
    "Investigate potential security issues"
   ]
  },
  {
   "cell_type": "code",
   "execution_count": null,
   "metadata": {},
   "outputs": [],
   "source": [
    "Amazon DevOps Guru\n",
    "ML-powered cloud operations service to improve application availability"
   ]
  },
  {
   "cell_type": "code",
   "execution_count": null,
   "metadata": {},
   "outputs": [],
   "source": [
    "Amazon DocumentDB\n",
    "Fully managed document database"
   ]
  },
  {
   "cell_type": "code",
   "execution_count": null,
   "metadata": {},
   "outputs": [],
   "source": [
    "Amazon DynamoDB\n",
    "Managed NoSQL database"
   ]
  },
  {
   "cell_type": "code",
   "execution_count": null,
   "metadata": {},
   "outputs": [],
   "source": [
    "Amazon EC2\n",
    "Virtual servers in the cloud"
   ]
  },
  {
   "cell_type": "code",
   "execution_count": null,
   "metadata": {},
   "outputs": [],
   "source": [
    "Amazon EC2 Auto Scaling\n",
    "Scale compute capacity to meet demand"
   ]
  },
  {
   "cell_type": "code",
   "execution_count": null,
   "metadata": {},
   "outputs": [],
   "source": [
    "Amazon EC2 Spot Instances\n",
    "Run workloads for up to 90% off"
   ]
  },
  {
   "cell_type": "code",
   "execution_count": null,
   "metadata": {},
   "outputs": [],
   "source": [
    "Amazon Elastic Block Store (EBS)\n",
    "EC2 block storage volumes"
   ]
  },
  {
   "cell_type": "code",
   "execution_count": null,
   "metadata": {},
   "outputs": [],
   "source": [
    "Amazon Elastic Container Registry (ECR)\n",
    "Easily store, manage, and deploy container images\n"
   ]
  },
  {
   "cell_type": "code",
   "execution_count": null,
   "metadata": {},
   "outputs": [],
   "source": [
    "Amazon Elastic Container Service (ECS)\n",
    "Highly secure, reliable, and scalable way to run containers"
   ]
  },
  {
   "cell_type": "code",
   "execution_count": null,
   "metadata": {},
   "outputs": [],
   "source": [
    "Amazon Elastic File System (EFS)\n",
    "Fully managed file system for EC2"
   ]
  },
  {
   "cell_type": "code",
   "execution_count": null,
   "metadata": {},
   "outputs": [],
   "source": [
    "Amazon Elastic Inference\n",
    "Deep learning inference acceleration"
   ]
  },
  {
   "cell_type": "code",
   "execution_count": null,
   "metadata": {},
   "outputs": [],
   "source": [
    "Amazon Elastic Kubernetes Service (EKS)\n",
    "The most trusted way to run Kubernetes"
   ]
  },
  {
   "cell_type": "code",
   "execution_count": null,
   "metadata": {},
   "outputs": [],
   "source": [
    "Amazon Elastic Transcoder\n",
    "Easy-to-use scalable media transcoding"
   ]
  },
  {
   "cell_type": "code",
   "execution_count": null,
   "metadata": {},
   "outputs": [],
   "source": [
    "Amazon ElastiCache\n",
    "In-memory caching service"
   ]
  },
  {
   "cell_type": "code",
   "execution_count": null,
   "metadata": {},
   "outputs": [],
   "source": [
    "Amazon EMR\n",
    "Hosted Hadoop framework"
   ]
  },
  {
   "cell_type": "code",
   "execution_count": null,
   "metadata": {},
   "outputs": [],
   "source": [
    "Amazon EventBridge\n",
    "Serverless event bus for SaaS apps & AWS services"
   ]
  },
  {
   "cell_type": "code",
   "execution_count": null,
   "metadata": {},
   "outputs": [],
   "source": [
    "Amazon FinSpace\n",
    "Store, catalog, prepare, and analyze financial industry data in minutes"
   ]
  },
  {
   "cell_type": "code",
   "execution_count": null,
   "metadata": {},
   "outputs": [],
   "source": [
    "Amazon Forecast\n",
    "Increase forecast accuracy using machine learning"
   ]
  },
  {
   "cell_type": "code",
   "execution_count": null,
   "metadata": {},
   "outputs": [],
   "source": [
    "Amazon Fraud Detector\n",
    "Detect more online fraud faster\n"
   ]
  },
  {
   "cell_type": "code",
   "execution_count": null,
   "metadata": {},
   "outputs": [],
   "source": [
    "Amazon FSx\n",
    "Launch, run, and scale feature-rich and highly-performant file systems with just a few clicks"
   ]
  },
  {
   "cell_type": "code",
   "execution_count": null,
   "metadata": {},
   "outputs": [],
   "source": [
    "Amazon GameLift\n",
    "Simple, fast, cost-effective dedicated game server hosting"
   ]
  },
  {
   "cell_type": "code",
   "execution_count": null,
   "metadata": {},
   "outputs": [],
   "source": [
    "Amazon GuardDuty\n",
    "Managed threat detection service"
   ]
  },
  {
   "cell_type": "code",
   "execution_count": null,
   "metadata": {},
   "outputs": [],
   "source": [
    "Amazon HealthLake\n",
    "Securely store, transform, query, and analyze health data in minutes"
   ]
  },
  {
   "cell_type": "code",
   "execution_count": null,
   "metadata": {},
   "outputs": [],
   "source": [
    "Amazon Honeycode\n",
    "Build mobile & web apps without programming"
   ]
  },
  {
   "cell_type": "code",
   "execution_count": null,
   "metadata": {},
   "outputs": [],
   "source": [
    "Amazon Inspector\n",
    "Automated and continual vulnerability management for Amazon EC2 and Amazon ECR"
   ]
  },
  {
   "cell_type": "code",
   "execution_count": null,
   "metadata": {},
   "outputs": [],
   "source": [
    "Amazon Interactive Video Service\n",
    "Build engaging live stream experiences"
   ]
  },
  {
   "cell_type": "code",
   "execution_count": null,
   "metadata": {},
   "outputs": [],
   "source": [
    "Amazon Kendra\n",
    "Reinvent enterprise search with ML"
   ]
  },
  {
   "cell_type": "code",
   "execution_count": null,
   "metadata": {},
   "outputs": [],
   "source": [
    "Amazon Keyspaces (for Apache Cassandra)\n",
    "Managed Cassandra-compatible database"
   ]
  },
  {
   "cell_type": "code",
   "execution_count": null,
   "metadata": {},
   "outputs": [],
   "source": [
    "Amazon Kinesis\n",
    "Analyze real-time video and data streams"
   ]
  },
  {
   "cell_type": "code",
   "execution_count": null,
   "metadata": {},
   "outputs": [],
   "source": [
    "Amazon Kinesis Video Streams\n",
    "Process and analyze video streams"
   ]
  },
  {
   "cell_type": "code",
   "execution_count": null,
   "metadata": {},
   "outputs": [],
   "source": [
    "Amazon Lex\n",
    "Build voice and text chatbots"
   ]
  },
  {
   "cell_type": "code",
   "execution_count": null,
   "metadata": {},
   "outputs": [],
   "source": [
    "Amazon Lightsail\n",
    "Launch and manage virtual private servers"
   ]
  },
  {
   "cell_type": "code",
   "execution_count": null,
   "metadata": {},
   "outputs": [],
   "source": [
    "Amazon Location Service\n",
    "Securely and easily add location data to applications"
   ]
  },
  {
   "cell_type": "code",
   "execution_count": null,
   "metadata": {},
   "outputs": [],
   "source": [
    "Amazon Lookout for Equipment\n",
    "Detect abnormal equipment behavior by analyzing sensor data"
   ]
  },
  {
   "cell_type": "code",
   "execution_count": null,
   "metadata": {},
   "outputs": [],
   "source": [
    "Amazon Lookout for Metrics\n",
    "Automatically detect anomalies in metrics and identify their root cause"
   ]
  },
  {
   "cell_type": "code",
   "execution_count": null,
   "metadata": {},
   "outputs": [],
   "source": [
    "Amazon Lookout for Vision\n",
    "Spot product defects using computer vision to automate quality inspection"
   ]
  },
  {
   "cell_type": "code",
   "execution_count": null,
   "metadata": {},
   "outputs": [],
   "source": [
    "Amazon Lumberyard\n",
    "A free cross-platform 3D game engine, with Full Source, integrated with AWS and Twitch"
   ]
  },
  {
   "cell_type": "code",
   "execution_count": null,
   "metadata": {},
   "outputs": [],
   "source": [
    "Amazon Macie\n",
    "Discover and protect your sensitive data at scale"
   ]
  },
  {
   "cell_type": "code",
   "execution_count": null,
   "metadata": {},
   "outputs": [],
   "source": [
    "Amazon Managed Blockchain\n",
    "Create and manage scalable blockchain networks"
   ]
  },
  {
   "cell_type": "code",
   "execution_count": null,
   "metadata": {},
   "outputs": [],
   "source": [
    "Amazon Managed Grafana\n",
    "Scalable, secure, and highly available data visualization for your operational metrics, logs, and traces"
   ]
  },
  {
   "cell_type": "code",
   "execution_count": null,
   "metadata": {},
   "outputs": [],
   "source": [
    "Amazon Managed Service for Prometheus\n",
    "Highly available, secure, and managed monitoring for your containers"
   ]
  },
  {
   "cell_type": "code",
   "execution_count": null,
   "metadata": {},
   "outputs": [],
   "source": [
    "Amazon Managed Streaming for Apache Kafka (MSK)\n",
    "Fully managed Apache Kafka service"
   ]
  },
  {
   "cell_type": "code",
   "execution_count": null,
   "metadata": {},
   "outputs": [],
   "source": [
    "Amazon Managed Workflows for Apache Airflow (MWAA)\n",
    "Highly available, secure, and managed workflow orchestration for Apache Airflow"
   ]
  },
  {
   "cell_type": "code",
   "execution_count": null,
   "metadata": {},
   "outputs": [],
   "source": [
    "Amazon MemoryDB for Redis\n",
    "Redis-compatible, durable, in-memory database service for ultra-fast performance"
   ]
  },
  {
   "cell_type": "code",
   "execution_count": null,
   "metadata": {},
   "outputs": [],
   "source": [
    "Amazon Monitron\n",
    "Reduce unplanned equipment downtime with predictive maintenance and machine learning"
   ]
  },
  {
   "cell_type": "code",
   "execution_count": null,
   "metadata": {},
   "outputs": [],
   "source": [
    "Amazon MQ\n",
    "Managed message broker service"
   ]
  },
  {
   "cell_type": "code",
   "execution_count": null,
   "metadata": {},
   "outputs": [],
   "source": [
    "Amazon Neptune\n",
    "Fully managed graph database service"
   ]
  },
  {
   "cell_type": "code",
   "execution_count": null,
   "metadata": {},
   "outputs": [],
   "source": [
    "Amazon Nimble Studio\n",
    "Accelerate content creation in the cloud"
   ]
  },
  {
   "cell_type": "code",
   "execution_count": null,
   "metadata": {},
   "outputs": [],
   "source": [
    "Amazon Omics\n",
    "Transform omics data into insights"
   ]
  },
  {
   "cell_type": "code",
   "execution_count": null,
   "metadata": {},
   "outputs": [],
   "source": [
    "Amazon OpenSearch Service\n",
    "Search, visualize, and analyze up to petabytes of text and unstructured data"
   ]
  },
  {
   "cell_type": "code",
   "execution_count": null,
   "metadata": {},
   "outputs": [],
   "source": [
    "Amazon Personalize\n",
    "Build real-time recommendations into your applications"
   ]
  },
  {
   "cell_type": "code",
   "execution_count": null,
   "metadata": {},
   "outputs": [],
   "source": [
    "Amazon Pinpoint\n",
    "Multichannel marketing communications"
   ]
  },
  {
   "cell_type": "code",
   "execution_count": null,
   "metadata": {},
   "outputs": [],
   "source": [
    "Amazon Polly\n",
    "Turn text into life-like speech"
   ]
  },
  {
   "cell_type": "code",
   "execution_count": null,
   "metadata": {},
   "outputs": [],
   "source": [
    "Amazon Quantum Ledger Database (QLDB)\n",
    "Fully managed ledger database"
   ]
  },
  {
   "cell_type": "code",
   "execution_count": null,
   "metadata": {},
   "outputs": [],
   "source": [
    "Amazon QuickSight\n",
    "Fast business analytics service"
   ]
  },
  {
   "cell_type": "code",
   "execution_count": null,
   "metadata": {},
   "outputs": [],
   "source": [
    "Amazon RDS\n",
    "Managed relational database service for MySQL, PostgreSQL, Oracle, SQL Server, and MariaDB"
   ]
  },
  {
   "cell_type": "code",
   "execution_count": null,
   "metadata": {},
   "outputs": [],
   "source": [
    "Amazon Redshift\n",
    "Fast, simple, cost-effective data warehousing"
   ]
  },
  {
   "cell_type": "code",
   "execution_count": null,
   "metadata": {},
   "outputs": [],
   "source": [
    "Amazon Rekognition\n",
    "Analyze image and video"
   ]
  },
  {
   "cell_type": "code",
   "execution_count": null,
   "metadata": {},
   "outputs": [],
   "source": [
    "Amazon Route 53\n",
    "53 Scalable domain name system (DNS)"
   ]
  },
  {
   "cell_type": "code",
   "execution_count": null,
   "metadata": {},
   "outputs": [],
   "source": [
    "Amazon S3 Glacier\n",
    "Low-cost archive storage in the cloud"
   ]
  },
  {
   "cell_type": "code",
   "execution_count": null,
   "metadata": {},
   "outputs": [],
   "source": [
    "Amazon SageMaker\n",
    "Build, train, and deploy machine learning models at scale"
   ]
  },
  {
   "cell_type": "code",
   "execution_count": null,
   "metadata": {},
   "outputs": [],
   "source": [
    "Amazon SageMaker Ground Truth\n",
    "Build accurate ML training datasets"
   ]
  },
  {
   "cell_type": "code",
   "execution_count": null,
   "metadata": {},
   "outputs": [],
   "source": [
    "Amazon Security Lake (Preview)\n",
    "Automatically centralize your security data with a few clicks"
   ]
  },
  {
   "cell_type": "code",
   "execution_count": null,
   "metadata": {},
   "outputs": [],
   "source": [
    "Amazon Simple Email Service (SES)\n",
    "High-scale inbound and outbound email"
   ]
  },
  {
   "cell_type": "code",
   "execution_count": null,
   "metadata": {},
   "outputs": [],
   "source": [
    "Amazon Simple Notification Service (SNS)\n",
    "Pub/sub, SMS, email, and mobile push "
   ]
  },
  {
   "cell_type": "code",
   "execution_count": null,
   "metadata": {},
   "outputs": [],
   "source": [
    "Amazon Simple Queue Service (SQS)\n",
    "Managed message queues"
   ]
  },
  {
   "cell_type": "code",
   "execution_count": null,
   "metadata": {},
   "outputs": [],
   "source": [
    "Amazon Simple Storage Service (S3)\n",
    "Object storage built to retrieve any amount of data from anywhere"
   ]
  },
  {
   "cell_type": "code",
   "execution_count": null,
   "metadata": {},
   "outputs": [],
   "source": [
    "Amazon Textract\n",
    "Extract text and data from documents"
   ]
  },
  {
   "cell_type": "code",
   "execution_count": null,
   "metadata": {},
   "outputs": [],
   "source": [
    "Amazon Timestream\n",
    "Fully managed time series database"
   ]
  },
  {
   "cell_type": "code",
   "execution_count": null,
   "metadata": {},
   "outputs": [],
   "source": [
    "Amazon Transcribe\n",
    "Automatic speech recognition"
   ]
  },
  {
   "cell_type": "code",
   "execution_count": null,
   "metadata": {},
   "outputs": [],
   "source": [
    "Amazon Translate\n",
    "Natural and fluent language translation"
   ]
  },
  {
   "cell_type": "code",
   "execution_count": null,
   "metadata": {},
   "outputs": [],
   "source": [
    "Amazon Verified Permissions (Preview)\n",
    "Fine-grained permissions and authorization for your applications"
   ]
  },
  {
   "cell_type": "code",
   "execution_count": null,
   "metadata": {},
   "outputs": [],
   "source": [
    "Amazon VPC\n",
    "Isolated cloud resources"
   ]
  },
  {
   "cell_type": "code",
   "execution_count": null,
   "metadata": {},
   "outputs": [],
   "source": [
    "Amazon WorkDocs\n",
    "Secure enterprise document storage and sharing"
   ]
  },
  {
   "cell_type": "code",
   "execution_count": null,
   "metadata": {},
   "outputs": [],
   "source": [
    "Amazon WorkMail\n",
    "Secure email and calendaring"
   ]
  },
  {
   "cell_type": "code",
   "execution_count": null,
   "metadata": {},
   "outputs": [],
   "source": [
    "Amazon WorkSpaces Family\n",
    "Virtual desktop services for every use case"
   ]
  },
  {
   "cell_type": "code",
   "execution_count": null,
   "metadata": {},
   "outputs": [],
   "source": [
    "Apache MXNet on AWS\n",
    "Scalable, open-source deep learning framework"
   ]
  },
  {
   "cell_type": "code",
   "execution_count": null,
   "metadata": {},
   "outputs": [],
   "source": [
    "AWS Application Migration Service (MGN)\n",
    "Automate application migration and modernization"
   ]
  },
  {
   "cell_type": "code",
   "execution_count": null,
   "metadata": {},
   "outputs": [],
   "source": [
    "AWS Amplify\n",
    "Build, deploy, host, and manage scalable web and mobile apps"
   ]
  },
  {
   "cell_type": "code",
   "execution_count": null,
   "metadata": {},
   "outputs": [],
   "source": [
    "AWS App Mesh\n",
    "Monitor and control microservices"
   ]
  },
  {
   "cell_type": "code",
   "execution_count": null,
   "metadata": {},
   "outputs": [],
   "source": [
    "AWS App Runner\n",
    "Production web applications at scale made easy for developers"
   ]
  },
  {
   "cell_type": "code",
   "execution_count": null,
   "metadata": {},
   "outputs": [],
   "source": [
    "AWS App2Container\n",
    "Containerize and migrate existing applications"
   ]
  },
  {
   "cell_type": "code",
   "execution_count": null,
   "metadata": {},
   "outputs": [],
   "source": [
    "AWS Application Composer (Preview)\n",
    "Visually design and build serverless applications quickly"
   ]
  },
  {
   "cell_type": "code",
   "execution_count": null,
   "metadata": {},
   "outputs": [],
   "source": [
    "AWS Application Discovery Service\n",
    "Discover on-premises applications to streamline migration"
   ]
  },
  {
   "cell_type": "code",
   "execution_count": null,
   "metadata": {},
   "outputs": [],
   "source": [
    "AWS AppSync\n",
    "Accelerate app development with fully-managed, scalable GraphQL APIs"
   ]
  },
  {
   "cell_type": "code",
   "execution_count": null,
   "metadata": {},
   "outputs": [],
   "source": [
    "AWS Artifact\n",
    "On-demand access to AWS’ compliance reports"
   ]
  },
  {
   "cell_type": "code",
   "execution_count": null,
   "metadata": {},
   "outputs": [],
   "source": [
    "AWS Audit Manager\n",
    "Continuously audit your AWS usage to simplify how you assess risk and compliance"
   ]
  },
  {
   "cell_type": "code",
   "execution_count": null,
   "metadata": {},
   "outputs": [],
   "source": [
    "AWS Auto Scaling\n",
    "Scale multiple resources to meet demand"
   ]
  },
  {
   "cell_type": "code",
   "execution_count": null,
   "metadata": {},
   "outputs": [],
   "source": [
    "AWS Backup\n",
    "Centralized backup across AWS services"
   ]
  },
  {
   "cell_type": "code",
   "execution_count": null,
   "metadata": {},
   "outputs": [],
   "source": [
    "AWS Batch\n",
    "Run batch jobs at any scale"
   ]
  },
  {
   "cell_type": "code",
   "execution_count": null,
   "metadata": {},
   "outputs": [],
   "source": [
    "AWS Budgets\n",
    "Set custom cost and usage budgets"
   ]
  },
  {
   "cell_type": "code",
   "execution_count": null,
   "metadata": {},
   "outputs": [],
   "source": [
    "AWS Certificate Manager\n",
    "Manager Provision, manage, and deploy SSL/TLS certificates"
   ]
  },
  {
   "cell_type": "code",
   "execution_count": null,
   "metadata": {},
   "outputs": [],
   "source": [
    "AWS Chatbot\n",
    "ChatOps for AWS"
   ]
  },
  {
   "cell_type": "code",
   "execution_count": null,
   "metadata": {},
   "outputs": [],
   "source": [
    "AWS Clean Rooms (Preview)\n",
    "Match, analyze, and collaborate on datasets–without sharing or revealing underlying data"
   ]
  },
  {
   "cell_type": "code",
   "execution_count": null,
   "metadata": {},
   "outputs": [],
   "source": [
    "AWS Cloud Control API\n",
    "Manage AWS and third-party cloud infrastructure with consistent APIs"
   ]
  },
  {
   "cell_type": "code",
   "execution_count": null,
   "metadata": {},
   "outputs": [],
   "source": [
    "AWS Cloud Development Kit (CDK)\n",
    "Model cloud infrastructure using code"
   ]
  },
  {
   "cell_type": "code",
   "execution_count": null,
   "metadata": {},
   "outputs": [],
   "source": [
    "AWS Cloud Map\n",
    "Service discovery for cloud resources"
   ]
  },
  {
   "cell_type": "code",
   "execution_count": null,
   "metadata": {},
   "outputs": [],
   "source": [
    "AWS Cloud WAN\n",
    "Easily build, manage, and monitor global wide area networks"
   ]
  },
  {
   "cell_type": "code",
   "execution_count": null,
   "metadata": {},
   "outputs": [],
   "source": [
    "AWS Cloud9\n",
    "Write, run, and debug code on a cloud IDE"
   ]
  },
  {
   "cell_type": "code",
   "execution_count": null,
   "metadata": {},
   "outputs": [],
   "source": [
    "AWS CloudFormation\n",
    "Create and manage resources with templates"
   ]
  },
  {
   "cell_type": "code",
   "execution_count": null,
   "metadata": {},
   "outputs": [],
   "source": [
    "AWS CloudHSM\n",
    "Hardware-based key storage for regulatory compliance"
   ]
  },
  {
   "cell_type": "code",
   "execution_count": null,
   "metadata": {},
   "outputs": [],
   "source": [
    "AWS CloudShell\n",
    "Command line access to AWS resources and tools directly from a browser"
   ]
  },
  {
   "cell_type": "code",
   "execution_count": null,
   "metadata": {},
   "outputs": [],
   "source": [
    "AWS CloudTrail\n",
    "Track user activity and API usage"
   ]
  },
  {
   "cell_type": "code",
   "execution_count": null,
   "metadata": {},
   "outputs": [],
   "source": [
    "AWS CodeArtifact\n",
    "Secure, scalable, and cost-effective artifact management for software development"
   ]
  },
  {
   "cell_type": "code",
   "execution_count": null,
   "metadata": {},
   "outputs": [],
   "source": [
    "AWS CodeBuild\n",
    "Build and test code"
   ]
  },
  {
   "cell_type": "code",
   "execution_count": null,
   "metadata": {},
   "outputs": [],
   "source": [
    "AWS CodeCommit\n",
    "Store code in private Git repositories"
   ]
  },
  {
   "cell_type": "code",
   "execution_count": null,
   "metadata": {},
   "outputs": [],
   "source": [
    "AWS CodeDeploy\n",
    "Automate code deployments"
   ]
  },
  {
   "cell_type": "code",
   "execution_count": null,
   "metadata": {},
   "outputs": [],
   "source": [
    "AWS CodePipeline\n",
    "Release software using continuous delivery"
   ]
  },
  {
   "cell_type": "code",
   "execution_count": null,
   "metadata": {},
   "outputs": [],
   "source": [
    "AWS CodeStar\n",
    "Develop and deploy AWS applications"
   ]
  },
  {
   "cell_type": "code",
   "execution_count": null,
   "metadata": {},
   "outputs": [],
   "source": [
    "AWS Command Line Interface (CLI)\n",
    "Line Interface Unified tool to manage AWS services"
   ]
  },
  {
   "cell_type": "code",
   "execution_count": null,
   "metadata": {},
   "outputs": [],
   "source": [
    "AWS Compute Optimizer\n",
    "Identify optimal AWS Compute resources"
   ]
  },
  {
   "cell_type": "code",
   "execution_count": null,
   "metadata": {},
   "outputs": [],
   "source": [
    "AWS Config\n",
    "Track resources inventory and changes"
   ]
  },
  {
   "cell_type": "code",
   "execution_count": null,
   "metadata": {},
   "outputs": [],
   "source": [
    "AWS Control Tower\n",
    "Set up and govern a secure, compliant multi-account environment"
   ]
  },
  {
   "cell_type": "code",
   "execution_count": null,
   "metadata": {},
   "outputs": [],
   "source": [
    "AWS Copilot\n",
    "AWS Copilot is the easiest way to launch and manage your containerized application on AWS"
   ]
  },
  {
   "cell_type": "code",
   "execution_count": null,
   "metadata": {},
   "outputs": [],
   "source": [
    "AWS Cost and Usage Report\n",
    "Access comprehensive cost and usage information"
   ]
  },
  {
   "cell_type": "code",
   "execution_count": null,
   "metadata": {},
   "outputs": [],
   "source": [
    "AWS Cost Explorer\n",
    "Analyze your AWS cost and usage"
   ]
  },
  {
   "cell_type": "code",
   "execution_count": null,
   "metadata": {},
   "outputs": [],
   "source": [
    "AWS Data Exchange\n",
    "Find, subscribe to, and use third-party data in the cloud"
   ]
  },
  {
   "cell_type": "code",
   "execution_count": null,
   "metadata": {},
   "outputs": [],
   "source": [
    "AWS Data Pipeline\n",
    "Orchestration service for periodic, data-driven workflows"
   ]
  },
  {
   "cell_type": "code",
   "execution_count": null,
   "metadata": {},
   "outputs": [],
   "source": [
    "AWS Database Migration Service (DMS)\n",
    "Migrate databases with minimal downtime"
   ]
  },
  {
   "cell_type": "code",
   "execution_count": null,
   "metadata": {},
   "outputs": [],
   "source": [
    "AWS DataSync\n",
    "Simple, fast, online data transfer"
   ]
  },
  {
   "cell_type": "code",
   "execution_count": null,
   "metadata": {},
   "outputs": [],
   "source": [
    "AWS Deep Learning AMIs\n",
    "Deep learning on Amazon EC2"
   ]
  },
  {
   "cell_type": "code",
   "execution_count": null,
   "metadata": {},
   "outputs": [],
   "source": [
    "AWS Deep Learning Containers\n",
    "Docker images for deep learning"
   ]
  },
  {
   "cell_type": "code",
   "execution_count": null,
   "metadata": {},
   "outputs": [],
   "source": [
    "AWS DeepComposer\n",
    "ML enabled musical keyboard"
   ]
  },
  {
   "cell_type": "code",
   "execution_count": null,
   "metadata": {},
   "outputs": [],
   "source": [
    "AWS DeepLens\n",
    "Deep learning enabled video camera"
   ]
  },
  {
   "cell_type": "code",
   "execution_count": null,
   "metadata": {},
   "outputs": [],
   "source": [
    "AWS DeepRacer\n",
    "Autonomous 1/18th scale race car, driven by ML"
   ]
  },
  {
   "cell_type": "code",
   "execution_count": null,
   "metadata": {},
   "outputs": [],
   "source": [
    "AWS Device Farm\n",
    "Test Android, iOS, and web apps on real devices in the AWS cloud"
   ]
  },
  {
   "cell_type": "code",
   "execution_count": null,
   "metadata": {},
   "outputs": [],
   "source": [
    "AWS Direct Connect\n",
    "Dedicated network connection to AWS"
   ]
  },
  {
   "cell_type": "code",
   "execution_count": null,
   "metadata": {},
   "outputs": [],
   "source": [
    "AWS Directory Service\n",
    "Host and manage active directory"
   ]
  },
  {
   "cell_type": "code",
   "execution_count": null,
   "metadata": {},
   "outputs": [],
   "source": [
    "AWS Distro for OpenTelemetry\n",
    "Secure, production-ready open source distribution with predictable performance"
   ]
  },
  {
   "cell_type": "code",
   "execution_count": null,
   "metadata": {},
   "outputs": [],
   "source": [
    "AWS Elastic Beanstalk\n",
    "Run and manage web apps"
   ]
  },
  {
   "cell_type": "code",
   "execution_count": null,
   "metadata": {},
   "outputs": [],
   "source": [
    "AWS Elemental Appliances & Software\n",
    "On-premises media solutions"
   ]
  },
  {
   "cell_type": "code",
   "execution_count": null,
   "metadata": {},
   "outputs": [],
   "source": [
    "AWS Elemental MediaConnect\n",
    "Reliable and secure live video transport"
   ]
  },
  {
   "cell_type": "code",
   "execution_count": null,
   "metadata": {},
   "outputs": [],
   "source": [
    "AWS Elemental MediaConvert\n",
    "Convert file-based video content"
   ]
  },
  {
   "cell_type": "code",
   "execution_count": null,
   "metadata": {},
   "outputs": [],
   "source": [
    "AWS Elemental MediaLive\n",
    "Convert live video content"
   ]
  },
  {
   "cell_type": "code",
   "execution_count": null,
   "metadata": {},
   "outputs": [],
   "source": [
    "AWS Elemental MediaPackage\n",
    "Video origination and packaging"
   ]
  },
  {
   "cell_type": "code",
   "execution_count": null,
   "metadata": {},
   "outputs": [],
   "source": [
    "AWS Elemental MediaStore\n",
    "Media storage and simple http origin"
   ]
  },
  {
   "cell_type": "code",
   "execution_count": null,
   "metadata": {},
   "outputs": [],
   "source": [
    "AWS Elemental MediaTailor\n",
    "Video personalization and monetization"
   ]
  },
  {
   "cell_type": "code",
   "execution_count": null,
   "metadata": {},
   "outputs": [],
   "source": [
    "AWS Fargate\n",
    "Serverless compute for containers"
   ]
  },
  {
   "cell_type": "code",
   "execution_count": null,
   "metadata": {},
   "outputs": [],
   "source": [
    "AWS Fault Injection Simulator\n",
    "Improve resiliency and performance with controlled experiments"
   ]
  },
  {
   "cell_type": "code",
   "execution_count": null,
   "metadata": {},
   "outputs": [],
   "source": [
    "AWS Firewall Manager\n",
    "Central management of firewall rules"
   ]
  },
  {
   "cell_type": "code",
   "execution_count": null,
   "metadata": {},
   "outputs": [],
   "source": [
    "AWS Global Accelerator\n",
    "Improve global application availability and performance"
   ]
  },
  {
   "cell_type": "code",
   "execution_count": null,
   "metadata": {},
   "outputs": [],
   "source": [
    "AWS Glue\n",
    "Simple, scalable, and serverless data integration"
   ]
  },
  {
   "cell_type": "code",
   "execution_count": null,
   "metadata": {},
   "outputs": [],
   "source": [
    "AWS Ground Station\n",
    "Fully managed ground station as a service"
   ]
  },
  {
   "cell_type": "code",
   "execution_count": null,
   "metadata": {},
   "outputs": [],
   "source": [
    "AWS IAM Identity Center\n",
    "Manage single sign-on access to AWS accounts and apps"
   ]
  },
  {
   "cell_type": "code",
   "execution_count": null,
   "metadata": {},
   "outputs": [],
   "source": [
    "AWS Identity and Access Management\n",
    "Securely manage access to services and resources"
   ]
  },
  {
   "cell_type": "code",
   "execution_count": null,
   "metadata": {},
   "outputs": [],
   "source": [
    "AWS Inferentia\n",
    "Machine learning inference chip"
   ]
  },
  {
   "cell_type": "code",
   "execution_count": null,
   "metadata": {},
   "outputs": [],
   "source": [
    "AWS IoT 1-Click\n",
    "One click creation of an AWS Lambda trigger"
   ]
  },
  {
   "cell_type": "code",
   "execution_count": null,
   "metadata": {},
   "outputs": [],
   "source": [
    "AWS IoT Analytics\n",
    "Analytics for IoT devices"
   ]
  },
  {
   "cell_type": "code",
   "execution_count": null,
   "metadata": {},
   "outputs": [],
   "source": [
    "AWS IoT Button\n",
    "Cloud programmable dash button"
   ]
  },
  {
   "cell_type": "code",
   "execution_count": null,
   "metadata": {},
   "outputs": [],
   "source": [
    "AWS IoT Device Defender\n",
    "Security management for IoT devices"
   ]
  },
  {
   "cell_type": "code",
   "execution_count": null,
   "metadata": {},
   "outputs": [],
   "source": [
    "AWS IoT Device Management\n",
    "Onboard, organize, and remotely manage IoT devices"
   ]
  },
  {
   "cell_type": "code",
   "execution_count": null,
   "metadata": {},
   "outputs": [],
   "source": [
    "AWS IoT EduKit\n",
    "Learn how to build simple IoT applications with reference hardware and step-by-step tutorials"
   ]
  },
  {
   "cell_type": "code",
   "execution_count": null,
   "metadata": {},
   "outputs": [],
   "source": [
    "AWS IoT Events\n",
    "IoT event detection and response"
   ]
  },
  {
   "cell_type": "code",
   "execution_count": null,
   "metadata": {},
   "outputs": [],
   "source": [
    "AWS IoT RoboRunner\n",
    "Build applications that help fleets of robots work together seamlessly"
   ]
  },
  {
   "cell_type": "code",
   "execution_count": null,
   "metadata": {},
   "outputs": [],
   "source": [
    "AWS Key Management Service (KMS)\n",
    "Managed creation and control of encryption keys"
   ]
  },
  {
   "cell_type": "code",
   "execution_count": null,
   "metadata": {},
   "outputs": [],
   "source": [
    "AWS Lake Formation\n",
    "Build a secure data lake in days"
   ]
  },
  {
   "cell_type": "code",
   "execution_count": null,
   "metadata": {},
   "outputs": [],
   "source": [
    "AWS Lambda\n",
    "Run code without thinking about servers"
   ]
  },
  {
   "cell_type": "code",
   "execution_count": null,
   "metadata": {},
   "outputs": [],
   "source": [
    "AWS Launch Wizard\n",
    "Easily size, configure, and deploy third party applications on AWS"
   ]
  },
  {
   "cell_type": "code",
   "execution_count": null,
   "metadata": {},
   "outputs": [],
   "source": [
    "AWS License Manager\n",
    "Track, manage, and control licenses"
   ]
  },
  {
   "cell_type": "code",
   "execution_count": null,
   "metadata": {},
   "outputs": [],
   "source": [
    "AWS Local Zones\n",
    "Run latency sensitive applications closer to end users"
   ]
  },
  {
   "cell_type": "code",
   "execution_count": null,
   "metadata": {},
   "outputs": [],
   "source": [
    "AWS Mainframe Modernization\n",
    "Migrate, modernize, operate, and run mainframe workloads"
   ]
  },
  {
   "cell_type": "code",
   "execution_count": null,
   "metadata": {},
   "outputs": [],
   "source": [
    "AWS Managed Services\n",
    "Infrastructure operations management for AWS"
   ]
  },
  {
   "cell_type": "code",
   "execution_count": null,
   "metadata": {},
   "outputs": [],
   "source": [
    "AWS Management Console\n",
    "Web-based user interface"
   ]
  },
  {
   "cell_type": "code",
   "execution_count": null,
   "metadata": {},
   "outputs": [],
   "source": [
    "AWS Management Console Mobile Application\n",
    "Access resources on the go"
   ]
  },
  {
   "cell_type": "code",
   "execution_count": null,
   "metadata": {},
   "outputs": [],
   "source": [
    "AWS Migration Hub\n",
    "Track migrations from a single place"
   ]
  },
  {
   "cell_type": "code",
   "execution_count": null,
   "metadata": {},
   "outputs": [],
   "source": [
    "AWS Network Firewall\n",
    "Deploy network security across your Amazon VPCs with just a few clicks"
   ]
  },
  {
   "cell_type": "code",
   "execution_count": null,
   "metadata": {},
   "outputs": [],
   "source": [
    "AWS OpsWorks\n",
    "Automate operations with Chef and Puppet"
   ]
  },
  {
   "cell_type": "code",
   "execution_count": null,
   "metadata": {},
   "outputs": [],
   "source": [
    "AWS Organizations\n",
    "Central governance and management across AWS accounts"
   ]
  },
  {
   "cell_type": "code",
   "execution_count": null,
   "metadata": {},
   "outputs": [],
   "source": [
    "AWS Outposts\n",
    "Run AWS infrastructure on-premises"
   ]
  },
  {
   "cell_type": "code",
   "execution_count": null,
   "metadata": {},
   "outputs": [],
   "source": [
    "AWS Panorama\n",
    "Improve your operations with computer vision at the edge"
   ]
  },
  {
   "cell_type": "code",
   "execution_count": null,
   "metadata": {},
   "outputs": [],
   "source": [
    "AWS Partner Device Catalog\n",
    "Curated catalog of AWS-compatible IoT hardware"
   ]
  },
  {
   "cell_type": "code",
   "execution_count": null,
   "metadata": {},
   "outputs": [],
   "source": [
    "AWS Personal Health Dashboard\n",
    "Personalized view of AWS service health"
   ]
  },
  {
   "cell_type": "code",
   "execution_count": null,
   "metadata": {},
   "outputs": [],
   "source": [
    "AWS Private 5G\n",
    "Easily deploy, manage, and scale a private cellular network"
   ]
  },
  {
   "cell_type": "code",
   "execution_count": null,
   "metadata": {},
   "outputs": [],
   "source": [
    "AWS PrivateLink\n",
    "Securely access services hosted on AWS"
   ]
  },
  {
   "cell_type": "code",
   "execution_count": null,
   "metadata": {},
   "outputs": [],
   "source": [
    "AWS Proton\n",
    "Automate management for container and serverless deployments"
   ]
  },
  {
   "cell_type": "code",
   "execution_count": null,
   "metadata": {},
   "outputs": [],
   "source": [
    "AWS Resilience Hub\n",
    "Prepare and protect your applications from disruptions"
   ]
  },
  {
   "cell_type": "code",
   "execution_count": null,
   "metadata": {},
   "outputs": [],
   "source": [
    "AWS Resource Access Manager\n",
    "Simple, secure service to share AWS resources"
   ]
  },
  {
   "cell_type": "code",
   "execution_count": null,
   "metadata": {},
   "outputs": [],
   "source": [
    "AWS RoboMaker\n",
    "Develop, test, and deploy robotics applications"
   ]
  },
  {
   "cell_type": "code",
   "execution_count": null,
   "metadata": {},
   "outputs": [],
   "source": [
    "AWS Secrets Manager\n",
    "Rotate, manage, and retrieve secrets"
   ]
  },
  {
   "cell_type": "code",
   "execution_count": null,
   "metadata": {},
   "outputs": [],
   "source": [
    "AWS Security Hub\n",
    "Unified security and compliance center"
   ]
  },
  {
   "cell_type": "code",
   "execution_count": null,
   "metadata": {},
   "outputs": [],
   "source": [
    "AWS Serverless Application Repository\n",
    "Discover, deploy, and publish serverless applications"
   ]
  },
  {
   "cell_type": "code",
   "execution_count": null,
   "metadata": {},
   "outputs": [],
   "source": [
    "AWS Service Catalog\n",
    "Create and use standardized products"
   ]
  },
  {
   "cell_type": "code",
   "execution_count": null,
   "metadata": {},
   "outputs": [],
   "source": [
    "AWS Service Management Connector\n",
    "Provision, manage and operate AWS resources within Service Management Tools"
   ]
  },
  {
   "cell_type": "code",
   "execution_count": null,
   "metadata": {},
   "outputs": [],
   "source": [
    "AWS Shield\n",
    "DDoS protection"
   ]
  },
  {
   "cell_type": "code",
   "execution_count": null,
   "metadata": {},
   "outputs": [],
   "source": [
    "AWS SimSpace Weaver\n",
    "Build dynamic, large-scale spatial simulations on AWS managed infrastructure"
   ]
  },
  {
   "cell_type": "code",
   "execution_count": null,
   "metadata": {},
   "outputs": [],
   "source": [
    "AWS Snow Family\n",
    "Physical edge computing and storage devices for rugged or disconnected environments"
   ]
  },
  {
   "cell_type": "code",
   "execution_count": null,
   "metadata": {},
   "outputs": [],
   "source": [
    "AWS Step Functions\n",
    "Coordination for distributed applications"
   ]
  },
  {
   "cell_type": "code",
   "execution_count": null,
   "metadata": {},
   "outputs": [],
   "source": [
    "AWS Storage Gateway\n",
    "Hybrid storage integration"
   ]
  },
  {
   "cell_type": "code",
   "execution_count": null,
   "metadata": {},
   "outputs": [],
   "source": [
    "AWS Supply Chain (Preview)\n",
    "Mitigate risks and lower costs with an ML-powered supply chain application"
   ]
  },
  {
   "cell_type": "code",
   "execution_count": null,
   "metadata": {},
   "outputs": [],
   "source": [
    "AWS Systems Manager\n",
    "Gain operational insights and take action"
   ]
  },
  {
   "cell_type": "code",
   "execution_count": null,
   "metadata": {},
   "outputs": [],
   "source": [
    "AWS Tools and SDKs\n",
    "Tools and SDKs for AWS"
   ]
  },
  {
   "cell_type": "code",
   "execution_count": null,
   "metadata": {},
   "outputs": [],
   "source": [
    "AWS Transfer Family\n",
    "Fully managed SFTP, FTPS, and FTP service"
   ]
  },
  {
   "cell_type": "code",
   "execution_count": null,
   "metadata": {},
   "outputs": [],
   "source": [
    "AWS Transit Gateway\n",
    "Easily scale VPC and account connections"
   ]
  },
  {
   "cell_type": "code",
   "execution_count": null,
   "metadata": {},
   "outputs": [],
   "source": [
    "AWS Trusted Advisor\n",
    "Optimize performance and security"
   ]
  },
  {
   "cell_type": "code",
   "execution_count": null,
   "metadata": {},
   "outputs": [],
   "source": [
    "AWS Verified Access (Preview)\n",
    "Provide secure access to corporate applications without a VPN"
   ]
  },
  {
   "cell_type": "code",
   "execution_count": null,
   "metadata": {},
   "outputs": [],
   "source": [
    "AWS VPN\n",
    "Securely access your network resources"
   ]
  },
  {
   "cell_type": "code",
   "execution_count": null,
   "metadata": {},
   "outputs": [],
   "source": [
    "AWS WAF\n",
    "Filter malicious web traffic"
   ]
  },
  {
   "cell_type": "code",
   "execution_count": null,
   "metadata": {},
   "outputs": [],
   "source": [
    "AWS Wavelength\n",
    "Deliver ultra-low latency applications for 5G devices"
   ]
  },
  {
   "cell_type": "code",
   "execution_count": null,
   "metadata": {},
   "outputs": [],
   "source": [
    "AWS Well-Architected Tool\n",
    "Review and improve your workloads"
   ]
  },
  {
   "cell_type": "code",
   "execution_count": null,
   "metadata": {},
   "outputs": [],
   "source": [
    "AWS Wickr\n",
    "Protect enterprise communications with end-to-end encryption"
   ]
  },
  {
   "cell_type": "code",
   "execution_count": null,
   "metadata": {},
   "outputs": [],
   "source": [
    "AWS X-Ray\n",
    "Analyze and debug your applications"
   ]
  },
  {
   "cell_type": "code",
   "execution_count": null,
   "metadata": {},
   "outputs": [],
   "source": [
    "AWS Elastic Disaster Recovery (DRS)\n",
    "Scalable, cost-effective application recovery to AWS"
   ]
  },
  {
   "cell_type": "code",
   "execution_count": null,
   "metadata": {},
   "outputs": [],
   "source": [
    "Elastic Load Balancing (ELB)\n",
    "Distribute incoming traffic across multiple targets"
   ]
  },
  {
   "cell_type": "code",
   "execution_count": null,
   "metadata": {},
   "outputs": [],
   "source": [
    "FreeRTOS\n",
    "Real-time operating system for microcontrollers"
   ]
  },
  {
   "cell_type": "code",
   "execution_count": null,
   "metadata": {},
   "outputs": [],
   "source": [
    "Migration Evaluator (formerly TSO Logic)\n",
    "Create a business case for cloud migration"
   ]
  },
  {
   "cell_type": "code",
   "execution_count": null,
   "metadata": {},
   "outputs": [],
   "source": [
    "PyTorch on AWS\n",
    "Flexible open-source machine learning framework"
   ]
  },
  {
   "cell_type": "code",
   "execution_count": null,
   "metadata": {},
   "outputs": [],
   "source": [
    "Red Hat OpenShift Service on AWS\n",
    "Managed OpenShift integration in the cloud"
   ]
  },
  {
   "cell_type": "code",
   "execution_count": null,
   "metadata": {},
   "outputs": [],
   "source": [
    "Reserved Instance (RI) Reporting\n",
    "Dive deeper into your reserved instances (RIs)"
   ]
  },
  {
   "cell_type": "code",
   "execution_count": null,
   "metadata": {},
   "outputs": [],
   "source": [
    "Savings Plans\n",
    "Save up to 72% on compute usage with flexible pricing"
   ]
  },
  {
   "cell_type": "code",
   "execution_count": null,
   "metadata": {},
   "outputs": [],
   "source": [
    "TensorFlow on AWS\n",
    "Open-source machine intelligence library"
   ]
  },
  {
   "cell_type": "code",
   "execution_count": null,
   "metadata": {},
   "outputs": [],
   "source": [
    "VMware Cloud on AWS\n",
    "Build a hybrid cloud without custom hardware"
   ]
  },
  {
   "cell_type": "code",
   "execution_count": null,
   "metadata": {},
   "outputs": [],
   "source": [
    "Amazon CodeWhisperer\n",
    "Build apps faster with ML-powered coding companion"
   ]
  },
  {
   "cell_type": "markdown",
   "metadata": {},
   "source": [
    "# GCP services ONLY"
   ]
  },
  {
   "cell_type": "code",
   "execution_count": null,
   "metadata": {},
   "outputs": [],
   "source": [
    "Compute Engine\n",
    "Virtual machines running in Google’s data center."
   ]
  },
  {
   "cell_type": "code",
   "execution_count": null,
   "metadata": {},
   "outputs": [],
   "source": [
    "Cloud Storage\n",
    "Object storage that’s secure, durable, and scalable."
   ]
  },
  {
   "cell_type": "code",
   "execution_count": null,
   "metadata": {},
   "outputs": [],
   "source": [
    "Cloud SDK\n",
    "Command-line tools and libraries for Google Cloud."
   ]
  },
  {
   "cell_type": "code",
   "execution_count": null,
   "metadata": {},
   "outputs": [],
   "source": [
    "Cloud SQL\n",
    "Relational database services for MySQL, PostgreSQL, and SQL Server."
   ]
  },
  {
   "cell_type": "code",
   "execution_count": null,
   "metadata": {},
   "outputs": [],
   "source": [
    "Google Kubernetes Engine\n",
    "Managed environment for running containerized apps."
   ]
  },
  {
   "cell_type": "code",
   "execution_count": null,
   "metadata": {},
   "outputs": [],
   "source": [
    "BigQuery\n",
    "Data warehouse for business agility and insights."
   ]
  },
  {
   "cell_type": "code",
   "execution_count": null,
   "metadata": {},
   "outputs": [],
   "source": [
    "Cloud CDN\n",
    "Content delivery network for delivering web and video."
   ]
  },
  {
   "cell_type": "code",
   "execution_count": null,
   "metadata": {},
   "outputs": [],
   "source": [
    "Dataflow\n",
    "Streaming analytics for stream and batch processing."
   ]
  },
  {
   "cell_type": "code",
   "execution_count": null,
   "metadata": {},
   "outputs": [],
   "source": [
    "Operations\n",
    "Monitoring, logging, and application performance suite."
   ]
  },
  {
   "cell_type": "code",
   "execution_count": null,
   "metadata": {},
   "outputs": [],
   "source": [
    "Cloud Run\n",
    "Fully managed environment for running containerized apps."
   ]
  },
  {
   "cell_type": "code",
   "execution_count": null,
   "metadata": {},
   "outputs": [],
   "source": [
    "Anthos\n",
    "Platform for modernizing existing apps and building new ones."
   ]
  },
  {
   "cell_type": "code",
   "execution_count": null,
   "metadata": {},
   "outputs": [],
   "source": [
    "Cloud Functions\n",
    "Event-driven compute platform for cloud services and apps."
   ]
  },
  {
   "cell_type": "code",
   "execution_count": null,
   "metadata": {},
   "outputs": [],
   "source": [
    "Vertex AI\n",
    "Unified platform for training, hosting, and managing ML models."
   ]
  },
  {
   "cell_type": "code",
   "execution_count": null,
   "metadata": {},
   "outputs": [],
   "source": [
    "Vertex AI Workbench\n",
    "A single interface for your data, analytics, and machine learning workflow."
   ]
  },
  {
   "cell_type": "code",
   "execution_count": null,
   "metadata": {},
   "outputs": [],
   "source": [
    "Vertex Explainable AI\n",
    "Tools and frameworks to understand and interpret your machine learning models."
   ]
  },
  {
   "cell_type": "code",
   "execution_count": null,
   "metadata": {},
   "outputs": [],
   "source": [
    "AutoML\n",
    "Custom machine learning model training and development."
   ]
  },
  {
   "cell_type": "code",
   "execution_count": null,
   "metadata": {},
   "outputs": [],
   "source": [
    "Dialogflow\n",
    "Conversation applications and systems development suite for virtual agents."
   ]
  },
  {
   "cell_type": "code",
   "execution_count": null,
   "metadata": {},
   "outputs": [],
   "source": [
    "Media Translation\n",
    "Add dynamic audio translation directly to your content and applications."
   ]
  },
  {
   "cell_type": "code",
   "execution_count": null,
   "metadata": {},
   "outputs": [],
   "source": [
    "Natural Language AI\n",
    "Sentiment analysis and classification of unstructured text."
   ]
  },
  {
   "cell_type": "code",
   "execution_count": null,
   "metadata": {},
   "outputs": [],
   "source": [
    "Recommendations AI\n",
    "Deliver highly personalized product recommendations at scale."
   ]
  },
  {
   "cell_type": "code",
   "execution_count": null,
   "metadata": {},
   "outputs": [],
   "source": [
    "Speech-to-Text\n",
    "Speech recognition and transcription supporting 125 languages."
   ]
  },
  {
   "cell_type": "code",
   "execution_count": null,
   "metadata": {},
   "outputs": [],
   "source": [
    "Text-to-Speech\n",
    "Speech synthesis in 220+ voices and 40+ languages."
   ]
  },
  {
   "cell_type": "code",
   "execution_count": null,
   "metadata": {},
   "outputs": [],
   "source": [
    "Translation AI\n",
    "Language detection, translation, and glossary support."
   ]
  },
  {
   "cell_type": "code",
   "execution_count": null,
   "metadata": {},
   "outputs": [],
   "source": [
    "Video AI\n",
    "Video classification and recognition using machine learning."
   ]
  },
  {
   "cell_type": "code",
   "execution_count": null,
   "metadata": {},
   "outputs": [],
   "source": [
    "Vision AI\n",
    "Custom and pre-trained models to detect emotion, text, more.\n"
   ]
  },
  {
   "cell_type": "code",
   "execution_count": null,
   "metadata": {},
   "outputs": [],
   "source": [
    "AI Infrastructure\n",
    "Options for every business to train deep learning and ML models cost-effectively."
   ]
  },
  {
   "cell_type": "code",
   "execution_count": null,
   "metadata": {},
   "outputs": [],
   "source": [
    "Cloud GPUs\n",
    "GPUs for machine learning, scientific computing, and 3D visualization."
   ]
  },
  {
   "cell_type": "code",
   "execution_count": null,
   "metadata": {},
   "outputs": [],
   "source": [
    "Cloud TPUs\n",
    "Tensor processing units for machine learning applications."
   ]
  },
  {
   "cell_type": "code",
   "execution_count": null,
   "metadata": {},
   "outputs": [],
   "source": [
    "Deep Learning VM Image\n",
    "Preconfigured VMs for deep learning applications."
   ]
  },
  {
   "cell_type": "code",
   "execution_count": null,
   "metadata": {},
   "outputs": [],
   "source": [
    "Deep Learning Containers\n",
    "Preconfigured and optimized containers for deep learning environments."
   ]
  },
  {
   "cell_type": "code",
   "execution_count": null,
   "metadata": {},
   "outputs": [],
   "source": [
    "TensorFlow Enterprise\n",
    "Reliability and performance for AI apps with enterprise-grade support and managed services."
   ]
  },
  {
   "cell_type": "code",
   "execution_count": null,
   "metadata": {},
   "outputs": [],
   "source": [
    "Contact Center AI\n",
    "AI model for speaking with customers and assisting human agents."
   ]
  },
  {
   "cell_type": "code",
   "execution_count": null,
   "metadata": {},
   "outputs": [],
   "source": [
    "Document AI\n",
    "Machine learning and AI to unlock insights from your documents."
   ]
  },
  {
   "cell_type": "code",
   "execution_count": null,
   "metadata": {},
   "outputs": [],
   "source": [
    "Intelligent products (Preview)\n",
    "Create engaging product ownership experiences with AI."
   ]
  },
  {
   "cell_type": "code",
   "execution_count": null,
   "metadata": {},
   "outputs": [],
   "source": [
    "Product Discovery\n",
    "Google-quality search and recommendations for retailers'\n",
    "digital properties help increase conversions and reduce search abandonment."
   ]
  },
  {
   "cell_type": "code",
   "execution_count": null,
   "metadata": {},
   "outputs": [],
   "source": [
    "Apigee API Management\n",
    "API management, development, and security platform."
   ]
  },
  {
   "cell_type": "code",
   "execution_count": null,
   "metadata": {},
   "outputs": [],
   "source": [
    "Apigee Integration\n",
    "API-first integration to connect existing data and applications."
   ]
  },
  {
   "cell_type": "code",
   "execution_count": null,
   "metadata": {},
   "outputs": [],
   "source": [
    "Apigee Hybrid\n",
    "Deployment option for managing APIs on-premises or in the cloud."
   ]
  },
  {
   "cell_type": "code",
   "execution_count": null,
   "metadata": {},
   "outputs": [],
   "source": [
    "AppSheet Automation\n",
    "Reclaim time and talent with no-code automation."
   ]
  },
  {
   "cell_type": "code",
   "execution_count": null,
   "metadata": {},
   "outputs": [],
   "source": [
    "AppSheet\n",
    "Enable everyone in your organization to build and extend applications without coding."
   ]
  },
  {
   "cell_type": "code",
   "execution_count": null,
   "metadata": {},
   "outputs": [],
   "source": [
    "Apigee Open Banking APIx\n",
    "Open banking and PSD2-compliant API delivery.\n"
   ]
  },
  {
   "cell_type": "code",
   "execution_count": null,
   "metadata": {},
   "outputs": [],
   "source": [
    "Apigee Sense\n",
    "Intelligent behavior detection to protect APIs."
   ]
  },
  {
   "cell_type": "code",
   "execution_count": null,
   "metadata": {},
   "outputs": [],
   "source": [
    "HealthAPIx\n",
    "FHIR API-based digital service formation."
   ]
  },
  {
   "cell_type": "code",
   "execution_count": null,
   "metadata": {},
   "outputs": [],
   "source": [
    "Cloud Healthcare API\n",
    "Solution to bridge existing care systems and apps on Google Cloud."
   ]
  },
  {
   "cell_type": "code",
   "execution_count": null,
   "metadata": {},
   "outputs": [],
   "source": [
    "API Gateway\n",
    "Develop, deploy, secure, and manage APIs with a fully managed gateway."
   ]
  },
  {
   "cell_type": "code",
   "execution_count": null,
   "metadata": {},
   "outputs": [],
   "source": [
    "Application Integration\n",
    "Connect your applications visually, without code."
   ]
  },
  {
   "cell_type": "code",
   "execution_count": null,
   "metadata": {},
   "outputs": [],
   "source": [
    "App Engine\n",
    "Serverless application platform for apps and back ends."
   ]
  },
  {
   "cell_type": "code",
   "execution_count": null,
   "metadata": {},
   "outputs": [],
   "source": [
    "Bare Metal Solution\n",
    "Infrastructure to run specialized workloads on Google Cloud."
   ]
  },
  {
   "cell_type": "code",
   "execution_count": null,
   "metadata": {},
   "outputs": [],
   "source": [
    "Batch\n",
    "Fully-managed batch service to schedule, queue, and execute batch jobs at scale.\n"
   ]
  },
  {
   "cell_type": "code",
   "execution_count": null,
   "metadata": {},
   "outputs": [],
   "source": [
    "Cloud GPUs\n",
    "GPUs for ML, scientific computing, and 3D visualization."
   ]
  },
  {
   "cell_type": "code",
   "execution_count": null,
   "metadata": {},
   "outputs": [],
   "source": [
    "Cloud Run\n",
    "Fully managed environment for running containerized apps."
   ]
  },
  {
   "cell_type": "code",
   "execution_count": null,
   "metadata": {},
   "outputs": [],
   "source": [
    "Compute Engine\n",
    "Virtual machines running in Google’s data center.\n"
   ]
  },
  {
   "cell_type": "code",
   "execution_count": null,
   "metadata": {},
   "outputs": [],
   "source": [
    "Migrate to Virtual Machines\n",
    "Server and virtual machine migration to Compute Engine."
   ]
  },
  {
   "cell_type": "code",
   "execution_count": null,
   "metadata": {},
   "outputs": [],
   "source": [
    "Spot VMs\n",
    "Compute instances for batch jobs and fault-tolerant workloads."
   ]
  },
  {
   "cell_type": "code",
   "execution_count": null,
   "metadata": {},
   "outputs": [],
   "source": [
    "Recommender\n",
    "Proactive, easily actionable recommendations to keep your cloud optimized.\n"
   ]
  },
  {
   "cell_type": "code",
   "execution_count": null,
   "metadata": {},
   "outputs": [],
   "source": [
    "Shielded VMs\n",
    "Reinforced virtual machines on Google Cloud."
   ]
  },
  {
   "cell_type": "code",
   "execution_count": null,
   "metadata": {},
   "outputs": [],
   "source": [
    "Sole-tenant Nodes\n",
    "Dedicated hardware for compliance, licensing, and management."
   ]
  },
  {
   "cell_type": "code",
   "execution_count": null,
   "metadata": {},
   "outputs": [],
   "source": [
    "SQL Server on Google Cloud\n",
    "Options for running SQL Server virtual machines on Google Cloud."
   ]
  },
  {
   "cell_type": "code",
   "execution_count": null,
   "metadata": {},
   "outputs": [],
   "source": [
    "VMware Engine\n",
    "Migrate and run your VMware workloads natively on Google Cloud."
   ]
  },
  {
   "cell_type": "code",
   "execution_count": null,
   "metadata": {},
   "outputs": [],
   "source": [
    "Artifact Registry\n",
    "Store, manage, and secure container images and language packages."
   ]
  },
  {
   "cell_type": "code",
   "execution_count": null,
   "metadata": {},
   "outputs": [],
   "source": [
    "Cloud Build\n",
    "Solution for running build steps in a Docker container."
   ]
  },
  {
   "cell_type": "code",
   "execution_count": null,
   "metadata": {},
   "outputs": [],
   "source": [
    "Cloud Run\n",
    "Fully managed environment for running containerized apps.\n"
   ]
  },
  {
   "cell_type": "code",
   "execution_count": null,
   "metadata": {},
   "outputs": [],
   "source": [
    "Container Security\n",
    "Container environment security for each stage of the life cycle."
   ]
  },
  {
   "cell_type": "code",
   "execution_count": null,
   "metadata": {},
   "outputs": [],
   "source": [
    "Deep Learning Containers\n",
    "Containers with data science frameworks, libraries, and tools."
   ]
  },
  {
   "cell_type": "code",
   "execution_count": null,
   "metadata": {},
   "outputs": [],
   "source": [
    "Google Kubernetes Engine (GKE)\n",
    "Managed environment for running containerized apps."
   ]
  },
  {
   "cell_type": "code",
   "execution_count": null,
   "metadata": {},
   "outputs": [],
   "source": [
    "Cloud Deploy\n",
    "Fully managed continuous delivery to GKE and Cloud Run.\n"
   ]
  },
  {
   "cell_type": "code",
   "execution_count": null,
   "metadata": {},
   "outputs": [],
   "source": [
    "Knative\n",
    "Components to create Kubernetes-native cloud-based software."
   ]
  },
  {
   "cell_type": "code",
   "execution_count": null,
   "metadata": {},
   "outputs": [],
   "source": [
    "Kubernetes applications on Google Cloud Marketplace\n",
    "Containerized apps with prebuilt deployment and unified billing."
   ]
  },
  {
   "cell_type": "code",
   "execution_count": null,
   "metadata": {},
   "outputs": [],
   "source": [
    "BigQuery\n",
    "Data warehouse for business agility and insights."
   ]
  },
  {
   "cell_type": "code",
   "execution_count": null,
   "metadata": {},
   "outputs": [],
   "source": [
    "Looker\n",
    "Platform for BI, data applications, and embedded analytics."
   ]
  },
  {
   "cell_type": "code",
   "execution_count": null,
   "metadata": {},
   "outputs": [],
   "source": [
    "Dataproc\n",
    "Service for running Apache Spark and Apache Hadoop clusters."
   ]
  },
  {
   "cell_type": "code",
   "execution_count": null,
   "metadata": {},
   "outputs": [],
   "source": [
    "Dataflow\n",
    "Streaming analytics for stream and batch processing.\n"
   ]
  },
  {
   "cell_type": "code",
   "execution_count": null,
   "metadata": {},
   "outputs": [],
   "source": [
    "Dataform\n",
    "Build, version control, and deploy SQL workflows in BigQuery."
   ]
  },
  {
   "cell_type": "code",
   "execution_count": null,
   "metadata": {},
   "outputs": [],
   "source": [
    "Pub/Sub\n",
    "Messaging service for event ingestion and delivery."
   ]
  },
  {
   "cell_type": "code",
   "execution_count": null,
   "metadata": {},
   "outputs": [],
   "source": [
    "Cloud Data Fusion\n",
    "Data integration for building and managing data pipelines."
   ]
  },
  {
   "cell_type": "code",
   "execution_count": null,
   "metadata": {},
   "outputs": [],
   "source": [
    "Data Catalog\n",
    "Metadata solution for exploring and managing data."
   ]
  },
  {
   "cell_type": "code",
   "execution_count": null,
   "metadata": {},
   "outputs": [],
   "source": [
    "Cloud Composer\n",
    "Workflow orchestration service built on Apache Airflow."
   ]
  },
  {
   "cell_type": "code",
   "execution_count": null,
   "metadata": {},
   "outputs": [],
   "source": [
    "Dataprep\n",
    "Service to prepare data for analysis and machine learning."
   ]
  },
  {
   "cell_type": "code",
   "execution_count": null,
   "metadata": {},
   "outputs": [],
   "source": [
    "Dataplex\n",
    "Intelligent data fabric for unified data management across distributed data silos.\n"
   ]
  },
  {
   "cell_type": "code",
   "execution_count": null,
   "metadata": {},
   "outputs": [],
   "source": [
    "Analytics Hub\n",
    "Service for securely and efficiently exchanging data analytics assets."
   ]
  },
  {
   "cell_type": "code",
   "execution_count": null,
   "metadata": {},
   "outputs": [],
   "source": [
    "Looker Studio\n",
    "Interactive data suite for dashboarding, reporting, and analytics."
   ]
  },
  {
   "cell_type": "code",
   "execution_count": null,
   "metadata": {},
   "outputs": [],
   "source": [
    "Google Marketing Platform*\n",
    "Marketing platform unifying advertising and analytics."
   ]
  },
  {
   "cell_type": "code",
   "execution_count": null,
   "metadata": {},
   "outputs": [],
   "source": [
    "Cloud Life Sciences (beta)\n",
    "Tools for managing, processing, and transforming biomedical data."
   ]
  },
  {
   "cell_type": "code",
   "execution_count": null,
   "metadata": {},
   "outputs": [],
   "source": [
    "Earth Engine\n",
    "A powerful geospatial platform for Earth observation data and analysis."
   ]
  },
  {
   "cell_type": "code",
   "execution_count": null,
   "metadata": {},
   "outputs": [],
   "source": [
    "BigLake\n",
    "Storage engine for unifying data warehouses and lakes."
   ]
  },
  {
   "cell_type": "code",
   "execution_count": null,
   "metadata": {},
   "outputs": [],
   "source": [
    "AlloyDB for PostgreSQL\n",
    "Fully managed, PostgreSQL-compatible database for demanding enterprise workloads."
   ]
  },
  {
   "cell_type": "code",
   "execution_count": null,
   "metadata": {},
   "outputs": [],
   "source": [
    "Bare Metal Solution\n",
    "Infrastructure to run specialized workloads on Google Cloud."
   ]
  },
  {
   "cell_type": "code",
   "execution_count": null,
   "metadata": {},
   "outputs": [],
   "source": [
    "Cloud Bigtable\n",
    "Cloud-native wide-column database for large-scale, low-latency workloads."
   ]
  },
  {
   "cell_type": "code",
   "execution_count": null,
   "metadata": {},
   "outputs": [],
   "source": [
    "Cloud Spanner\n",
    "Cloud-native relational database with unlimited scale and 99.999% availability."
   ]
  },
  {
   "cell_type": "code",
   "execution_count": null,
   "metadata": {},
   "outputs": [],
   "source": [
    "Cloud SQL\n",
    "Fully managed database for MySQL, PostgreSQL, and SQL Server."
   ]
  },
  {
   "cell_type": "code",
   "execution_count": null,
   "metadata": {},
   "outputs": [],
   "source": [
    "Database Migration Service\n",
    "Serverless, minimal downtime migrations to the cloud."
   ]
  },
  {
   "cell_type": "code",
   "execution_count": null,
   "metadata": {},
   "outputs": [],
   "source": [
    "Firestore\n",
    "Cloud-native document database for building rich mobile, web, and IoT apps."
   ]
  },
  {
   "cell_type": "code",
   "execution_count": null,
   "metadata": {},
   "outputs": [],
   "source": [
    "Firebase Realtime Database\n",
    "NoSQL database for storing and syncing data in real time."
   ]
  },
  {
   "cell_type": "code",
   "execution_count": null,
   "metadata": {},
   "outputs": [],
   "source": [
    "Memorystore\n",
    "In-memory database for managed Redis and Memcached."
   ]
  },
  {
   "cell_type": "code",
   "execution_count": null,
   "metadata": {},
   "outputs": [],
   "source": [
    "Datastream\n",
    "Serverless change data capture and replication service."
   ]
  },
  {
   "cell_type": "code",
   "execution_count": null,
   "metadata": {},
   "outputs": [],
   "source": [
    "Artifact Registry\n",
    "Store, manage, and secure container images and language packages."
   ]
  },
  {
   "cell_type": "code",
   "execution_count": null,
   "metadata": {},
   "outputs": [],
   "source": [
    "Assured Open Source Software\n",
    "Incorporate the same OSS packages that Google uses into your own developer workflows.\n"
   ]
  },
  {
   "cell_type": "code",
   "execution_count": null,
   "metadata": {},
   "outputs": [],
   "source": [
    "Cloud Build\n",
    "Continuous integration and continuous delivery platform."
   ]
  },
  {
   "cell_type": "code",
   "execution_count": null,
   "metadata": {},
   "outputs": [],
   "source": [
    "Cloud Code\n",
    "IDE support to write, run, and debug Kubernetes applications."
   ]
  },
  {
   "cell_type": "code",
   "execution_count": null,
   "metadata": {},
   "outputs": [],
   "source": [
    "Cloud Scheduler\n",
    "Cron job scheduler for task automation and management."
   ]
  },
  {
   "cell_type": "code",
   "execution_count": null,
   "metadata": {},
   "outputs": [],
   "source": [
    "Cloud SDK\n",
    "Command-line tools and libraries for Google Cloud."
   ]
  },
  {
   "cell_type": "code",
   "execution_count": null,
   "metadata": {},
   "outputs": [],
   "source": [
    "Cloud Source Repositories\n",
    "Private Git repository to store, manage, and track code."
   ]
  },
  {
   "cell_type": "code",
   "execution_count": null,
   "metadata": {},
   "outputs": [],
   "source": [
    "Cloud Tasks\n",
    "Task management service for asynchronous task execution."
   ]
  },
  {
   "cell_type": "code",
   "execution_count": null,
   "metadata": {},
   "outputs": [],
   "source": [
    "Cloud Workstations\n",
    "Managed and secure development environments in the cloud."
   ]
  },
  {
   "cell_type": "code",
   "execution_count": null,
   "metadata": {},
   "outputs": [],
   "source": [
    "Firebase Crashlytics\n",
    "Prioritize and fix stability issues faster."
   ]
  },
  {
   "cell_type": "code",
   "execution_count": null,
   "metadata": {},
   "outputs": [],
   "source": [
    "Firebase Test Lab\n",
    "On-demand testing infrastructure for Android apps."
   ]
  },
  {
   "cell_type": "code",
   "execution_count": null,
   "metadata": {},
   "outputs": [],
   "source": [
    "Cloud Deploy\n",
    "Fully managed continuous delivery to Google Kubernetes Engine."
   ]
  },
  {
   "cell_type": "code",
   "execution_count": null,
   "metadata": {},
   "outputs": [],
   "source": [
    "Gradle App Engine Plugin\n",
    "Use Gradle for your App Engine projects.\n"
   ]
  },
  {
   "cell_type": "code",
   "execution_count": null,
   "metadata": {},
   "outputs": [],
   "source": [
    "Maven App Engine Plugin\n",
    "Use Maven for your App Engine projects."
   ]
  },
  {
   "cell_type": "code",
   "execution_count": null,
   "metadata": {},
   "outputs": [],
   "source": [
    "Tekton\n",
    "Kubernetes-native resources for declaring CI/CD pipelines."
   ]
  },
  {
   "cell_type": "code",
   "execution_count": null,
   "metadata": {},
   "outputs": [],
   "source": [
    "Tools for Eclipse\n",
    "Plugin for Google Cloud development inside the Eclipse IDE."
   ]
  },
  {
   "cell_type": "code",
   "execution_count": null,
   "metadata": {},
   "outputs": [],
   "source": [
    "Tools for PowerShell\n",
    "Full cloud control from Windows PowerShell."
   ]
  },
  {
   "cell_type": "code",
   "execution_count": null,
   "metadata": {},
   "outputs": [],
   "source": [
    "Payment Gateway\n",
    "Process API-based payments with reliability at scale."
   ]
  },
  {
   "cell_type": "code",
   "execution_count": null,
   "metadata": {},
   "outputs": [],
   "source": [
    "Apigee healthcare APIx\n",
    "FHIR API-based digital service production."
   ]
  },
  {
   "cell_type": "code",
   "execution_count": null,
   "metadata": {},
   "outputs": [],
   "source": [
    "Cloud Healthcare API\n",
    "Solution for bridging existing care systems and apps on Google Cloud."
   ]
  },
  {
   "cell_type": "code",
   "execution_count": null,
   "metadata": {},
   "outputs": [],
   "source": [
    "Cloud Life Sciences (beta)\n",
    "Tools for managing, processing, and transforming biomedical data."
   ]
  },
  {
   "cell_type": "code",
   "execution_count": null,
   "metadata": {},
   "outputs": [],
   "source": [
    "Device Connect for Fitbit\n",
    "Gain a 360-degree patient view with connected Fitbit data on Google Cloud."
   ]
  },
  {
   "cell_type": "code",
   "execution_count": null,
   "metadata": {},
   "outputs": [],
   "source": [
    "Healthcare Natural Language AI\n",
    "Real-time insights from unstructured medical text."
   ]
  },
  {
   "cell_type": "code",
   "execution_count": null,
   "metadata": {},
   "outputs": [],
   "source": [
    "Medical Imaging Suite\n",
    "Accelerate development of AI for medical imaging by making imaging data accessible, interoperable, and useful.\n"
   ]
  },
  {
   "cell_type": "code",
   "execution_count": null,
   "metadata": {},
   "outputs": [],
   "source": [
    "Anthos\n",
    "Platform for modernizing existing apps and building new ones."
   ]
  },
  {
   "cell_type": "code",
   "execution_count": null,
   "metadata": {},
   "outputs": [],
   "source": [
    "Apigee API Management\n",
    "API management, development, and security platform.\n"
   ]
  },
  {
   "cell_type": "code",
   "execution_count": null,
   "metadata": {},
   "outputs": [],
   "source": [
    "Cloud Build\n",
    "Service for executing builds on Google Cloud infrastructure."
   ]
  },
  {
   "cell_type": "code",
   "execution_count": null,
   "metadata": {},
   "outputs": [],
   "source": [
    "Cloud Run for Anthos\n",
    "Google-managed and supported Knative developer platform."
   ]
  },
  {
   "cell_type": "code",
   "execution_count": null,
   "metadata": {},
   "outputs": [],
   "source": [
    "Looker\n",
    "Platform for BI, data applications, and embedded analytics."
   ]
  },
  {
   "cell_type": "code",
   "execution_count": null,
   "metadata": {},
   "outputs": [],
   "source": [
    "Migrate to Containers\n",
    "Tool to move workloads and existing applications to GKE."
   ]
  },
  {
   "cell_type": "code",
   "execution_count": null,
   "metadata": {},
   "outputs": [],
   "source": [
    "Google Distributed Cloud\n",
    "Fully managed hardware and software solutions for the edge and data centers."
   ]
  },
  {
   "cell_type": "code",
   "execution_count": null,
   "metadata": {},
   "outputs": [],
   "source": [
    "Edge TPU\n",
    "ASIC designed to run ML inference and AI at the edge."
   ]
  },
  {
   "cell_type": "code",
   "execution_count": null,
   "metadata": {},
   "outputs": [],
   "source": [
    "IoT Core\n",
    "IoT device management, integration, and connection service."
   ]
  },
  {
   "cell_type": "code",
   "execution_count": null,
   "metadata": {},
   "outputs": [],
   "source": [
    "Anthos Config Management\n",
    "Automate policy and security for your deployments."
   ]
  },
  {
   "cell_type": "code",
   "execution_count": null,
   "metadata": {},
   "outputs": [],
   "source": [
    "Anthos Service Mesh\n",
    "Managed service mesh for complex microservices architectures."
   ]
  },
  {
   "cell_type": "code",
   "execution_count": null,
   "metadata": {},
   "outputs": [],
   "source": [
    "Carbon Footprint\n",
    "Dashboard to view and export your Google Cloud carbon emissions report."
   ]
  },
  {
   "cell_type": "code",
   "execution_count": null,
   "metadata": {},
   "outputs": [],
   "source": [
    "Cloud APIs\n",
    "Programmatic interfaces for Google Cloud services."
   ]
  },
  {
   "cell_type": "code",
   "execution_count": null,
   "metadata": {},
   "outputs": [],
   "source": [
    "Cloud Console\n",
    "Web-based interface for managing and monitoring cloud apps."
   ]
  },
  {
   "cell_type": "code",
   "execution_count": null,
   "metadata": {},
   "outputs": [],
   "source": [
    "Cloud Mobile App\n",
    "App to manage Google Cloud services from your mobile device."
   ]
  },
  {
   "cell_type": "code",
   "execution_count": null,
   "metadata": {},
   "outputs": [],
   "source": [
    "Cloud Shell\n",
    "Interactive shell environment with a built-in command line.\n"
   ]
  },
  {
   "cell_type": "code",
   "execution_count": null,
   "metadata": {},
   "outputs": [],
   "source": [
    "Cloud Workstations\n",
    "Managed development environments for better managing and securing app development on cloud"
   ]
  },
  {
   "cell_type": "code",
   "execution_count": null,
   "metadata": {},
   "outputs": [],
   "source": [
    "Config Connector\n",
    "Kubernetes add-on for managing Google Cloud resources."
   ]
  },
  {
   "cell_type": "code",
   "execution_count": null,
   "metadata": {},
   "outputs": [],
   "source": [
    "Cost Management\n",
    "Tools for monitoring, controlling, and optimizing your costs."
   ]
  },
  {
   "cell_type": "code",
   "execution_count": null,
   "metadata": {},
   "outputs": [],
   "source": [
    "Deployment Manager\n",
    "Google Cloud Deployment Manager is an infrastructure deployment service that automates \n",
    "the creation and management of Google Cloud resources."
   ]
  },
  {
   "cell_type": "code",
   "execution_count": null,
   "metadata": {},
   "outputs": [],
   "source": [
    "Service Catalog\n",
    "Service catalog for admins managing internal enterprise solutions."
   ]
  },
  {
   "cell_type": "code",
   "execution_count": null,
   "metadata": {},
   "outputs": [],
   "source": [
    "Terraform on Google Cloud\n",
    "Open source tool to provision Google Cloud resources with declarative configuration files."
   ]
  },
  {
   "cell_type": "code",
   "execution_count": null,
   "metadata": {},
   "outputs": [],
   "source": [
    "Live Stream API\n",
    "Live encoder that transforms live video content for use across a variety of user devices."
   ]
  },
  {
   "cell_type": "code",
   "execution_count": null,
   "metadata": {},
   "outputs": [],
   "source": [
    "OpenCue\n",
    "Open source render manager for visual effects and animation."
   ]
  },
  {
   "cell_type": "code",
   "execution_count": null,
   "metadata": {},
   "outputs": [],
   "source": [
    "Transcoder API\n",
    "Transform video content for use across a variety of user devices."
   ]
  },
  {
   "cell_type": "code",
   "execution_count": null,
   "metadata": {},
   "outputs": [],
   "source": [
    "Video Stitcher API\n",
    "Dynamically insert content and ads for targeted personalization of VOD and live content."
   ]
  },
  {
   "cell_type": "code",
   "execution_count": null,
   "metadata": {},
   "outputs": [],
   "source": [
    "Application migration\n",
    "App migration to the cloud for low-cost refresh cycles."
   ]
  },
  {
   "cell_type": "code",
   "execution_count": null,
   "metadata": {},
   "outputs": [],
   "source": [
    "BigQuery Data Transfer Service\n",
    "Data import service for scheduling and moving data into BigQuery."
   ]
  },
  {
   "cell_type": "code",
   "execution_count": null,
   "metadata": {},
   "outputs": [],
   "source": [
    "Cloud Foundation Toolkit\n",
    "Reference templates for Deployment Manager and Terraform."
   ]
  },
  {
   "cell_type": "code",
   "execution_count": null,
   "metadata": {},
   "outputs": [],
   "source": [
    "Migrate to Containers\n",
    "Components for migrating VMs into system containers on GKE."
   ]
  },
  {
   "cell_type": "code",
   "execution_count": null,
   "metadata": {},
   "outputs": [],
   "source": [
    "Migrate to Virtual Machines\n",
    "Components for migrating VMs and physical servers to Compute Engine."
   ]
  },
  {
   "cell_type": "code",
   "execution_count": null,
   "metadata": {},
   "outputs": [],
   "source": [
    "Migration Center\n",
    "Unified platform for migrating and modernizing with Google Cloud."
   ]
  },
  {
   "cell_type": "code",
   "execution_count": null,
   "metadata": {},
   "outputs": [],
   "source": [
    "Transfer Appliance\n",
    "Storage server for moving large volumes of data to Google Cloud.\n"
   ]
  },
  {
   "cell_type": "code",
   "execution_count": null,
   "metadata": {},
   "outputs": [],
   "source": [
    "Cloud Armor\n",
    "Security policies and defense against web and DDoS attacks."
   ]
  },
  {
   "cell_type": "code",
   "execution_count": null,
   "metadata": {},
   "outputs": [],
   "source": [
    "Cloud CDN\n",
    "Content delivery network for serving web and video content."
   ]
  },
  {
   "cell_type": "code",
   "execution_count": null,
   "metadata": {},
   "outputs": [],
   "source": [
    "Cloud Domains\n",
    "Easy domain name registration and management."
   ]
  },
  {
   "cell_type": "code",
   "execution_count": null,
   "metadata": {},
   "outputs": [],
   "source": [
    "Cloud DNS\n",
    "Domain name system for reliable and low-latency name lookups."
   ]
  },
  {
   "cell_type": "code",
   "execution_count": null,
   "metadata": {},
   "outputs": [],
   "source": [
    "Cloud IDS\n",
    "Cloud IDS (Cloud Intrusion Detection System) provides \n",
    "cloud-native network threat detection with industry-leading security."
   ]
  },
  {
   "cell_type": "code",
   "execution_count": null,
   "metadata": {},
   "outputs": [],
   "source": [
    "Cloud Load Balancing\n",
    "Service for distributing traffic across applications and regions."
   ]
  },
  {
   "cell_type": "code",
   "execution_count": null,
   "metadata": {},
   "outputs": [],
   "source": [
    "Cloud NAT\n",
    "NAT service for giving private instances internet access."
   ]
  },
  {
   "cell_type": "code",
   "execution_count": null,
   "metadata": {},
   "outputs": [],
   "source": [
    "Hybrid Connectivity\n",
    "Connectivity options for VPN, peering, and enterprise needs.\n"
   ]
  },
  {
   "cell_type": "code",
   "execution_count": null,
   "metadata": {},
   "outputs": [],
   "source": [
    "Media CDN\n",
    "Leverage Google’s decade of experience powering world-class streaming media."
   ]
  },
  {
   "cell_type": "code",
   "execution_count": null,
   "metadata": {},
   "outputs": [],
   "source": [
    "Network Connectivity Center\n",
    "Use Google’s network as your own. Reimagine how you deploy, manage, and scale your networks."
   ]
  },
  {
   "cell_type": "code",
   "execution_count": null,
   "metadata": {},
   "outputs": [],
   "source": [
    "Network Intelligence Center\n",
    "Network monitoring, verification, and optimization platform."
   ]
  },
  {
   "cell_type": "code",
   "execution_count": null,
   "metadata": {},
   "outputs": [],
   "source": [
    "Network Service Tiers\n",
    "Cloud network options based on performance, availability, and cost."
   ]
  },
  {
   "cell_type": "code",
   "execution_count": null,
   "metadata": {},
   "outputs": [],
   "source": [
    "Private Service Connect\n",
    "Secure connection between your VPC and services."
   ]
  },
  {
   "cell_type": "code",
   "execution_count": null,
   "metadata": {},
   "outputs": [],
   "source": [
    "Service Directory\n",
    "Platform for discovering, publishing, and connecting services."
   ]
  },
  {
   "cell_type": "code",
   "execution_count": null,
   "metadata": {},
   "outputs": [],
   "source": [
    "Spectrum Access System (SAS)\n",
    "Controls fundamental access to the Citizens Broadband Radio Service (CBRS)."
   ]
  },
  {
   "cell_type": "code",
   "execution_count": null,
   "metadata": {},
   "outputs": [],
   "source": [
    "Traffic Director\n",
    "Traffic control plane and management for open service mesh.\n"
   ]
  },
  {
   "cell_type": "code",
   "execution_count": null,
   "metadata": {},
   "outputs": [],
   "source": [
    "Virtual Private Cloud (VPC)\n",
    "Virtual network for Google Cloud resources and cloud-based services."
   ]
  },
  {
   "cell_type": "code",
   "execution_count": null,
   "metadata": {},
   "outputs": [],
   "source": [
    "Cloud Logging\n",
    "Google Cloud audit, platform, and application logs management."
   ]
  },
  {
   "cell_type": "code",
   "execution_count": null,
   "metadata": {},
   "outputs": [],
   "source": [
    "Cloud Monitoring\n",
    "Infrastructure and application health with rich metrics."
   ]
  },
  {
   "cell_type": "code",
   "execution_count": null,
   "metadata": {},
   "outputs": [],
   "source": [
    "Cloud Profiler\n",
    "CPU and heap profiler for analyzing application performance."
   ]
  },
  {
   "cell_type": "code",
   "execution_count": null,
   "metadata": {},
   "outputs": [],
   "source": [
    "Cloud Trace\n",
    "Tracing system collecting latency data from applications."
   ]
  },
  {
   "cell_type": "code",
   "execution_count": null,
   "metadata": {},
   "outputs": [],
   "source": [
    "Cloud Error Reporting\n",
    "Real time exception monitoring and alerting."
   ]
  },
  {
   "cell_type": "code",
   "execution_count": null,
   "metadata": {},
   "outputs": [],
   "source": [
    "Access Transparency\n",
    "Cloud provider visibility through near real-time logs."
   ]
  },
  {
   "cell_type": "code",
   "execution_count": null,
   "metadata": {},
   "outputs": [],
   "source": [
    "Assured Workloads\n",
    "Compliance and security controls for sensitive workloads."
   ]
  },
  {
   "cell_type": "code",
   "execution_count": null,
   "metadata": {},
   "outputs": [],
   "source": [
    "Cloud Asset Inventory\n",
    "View, monitor, and analyze Google Cloud and Anthos assets across projects and services."
   ]
  },
  {
   "cell_type": "code",
   "execution_count": null,
   "metadata": {},
   "outputs": [],
   "source": [
    "Cloud Data Loss Prevention\n",
    "Sensitive data inspection, classification, and redaction platform."
   ]
  },
  {
   "cell_type": "code",
   "execution_count": null,
   "metadata": {},
   "outputs": [],
   "source": [
    "Cloud IDS\n",
    "Cloud-native, managed network threat detection with industry-leading security."
   ]
  },
  {
   "cell_type": "code",
   "execution_count": null,
   "metadata": {},
   "outputs": [],
   "source": [
    "Cloud Key Management\n",
    "Manage encryption keys on Google Cloud."
   ]
  },
  {
   "cell_type": "code",
   "execution_count": null,
   "metadata": {},
   "outputs": [],
   "source": [
    "Confidential Computing\n",
    "Encrypt data in use with Confidential VMs.\n"
   ]
  },
  {
   "cell_type": "code",
   "execution_count": null,
   "metadata": {},
   "outputs": [],
   "source": [
    "Cloud Firewall\n",
    "Global and flexible firewalls to protect your cloud resources."
   ]
  },
  {
   "cell_type": "code",
   "execution_count": null,
   "metadata": {},
   "outputs": [],
   "source": [
    "Secret Manager\n",
    "Store API keys, passwords, certificates, and other sensitive data.\n"
   ]
  },
  {
   "cell_type": "code",
   "execution_count": null,
   "metadata": {},
   "outputs": [],
   "source": [
    "VPC Service Controls\n",
    "Protect sensitive data in Google Cloud services using security perimeters.\n"
   ]
  },
  {
   "cell_type": "code",
   "execution_count": null,
   "metadata": {},
   "outputs": [],
   "source": [
    "Security Command Center\n",
    "Platform for defending against threats to your Google Cloud assets."
   ]
  },
  {
   "cell_type": "code",
   "execution_count": null,
   "metadata": {},
   "outputs": [],
   "source": [
    "Shielded VMs\n",
    "Virtual machines hardened with security controls and defenses."
   ]
  },
  {
   "cell_type": "code",
   "execution_count": null,
   "metadata": {},
   "outputs": [],
   "source": [
    "Cloud Identity\n",
    "Unified platform for IT admins to manage user devices and apps."
   ]
  },
  {
   "cell_type": "code",
   "execution_count": null,
   "metadata": {},
   "outputs": [],
   "source": [
    "Identity-Aware Proxy\n",
    "Use identity and context to guard access to your applications and VMs.\n"
   ]
  },
  {
   "cell_type": "code",
   "execution_count": null,
   "metadata": {},
   "outputs": [],
   "source": [
    "Identity and Access Management\n",
    "Permissions management system for Google Cloud resources."
   ]
  },
  {
   "cell_type": "code",
   "execution_count": null,
   "metadata": {},
   "outputs": [],
   "source": [
    "Managed Service for Microsoft Active Directory\n",
    "Hardened service running Microsoft® Active Directory (AD)."
   ]
  },
  {
   "cell_type": "code",
   "execution_count": null,
   "metadata": {},
   "outputs": [],
   "source": [
    "Policy Intelligence\n",
    "Smart access control for your Google Cloud resources."
   ]
  },
  {
   "cell_type": "code",
   "execution_count": null,
   "metadata": {},
   "outputs": [],
   "source": [
    "Assured Open Source Software\n",
    "Incorporate the same OSS packages that Google uses into your own developer workflows."
   ]
  },
  {
   "cell_type": "code",
   "execution_count": null,
   "metadata": {},
   "outputs": [],
   "source": [
    "Software Delivery Shield\n",
    "Fully managed, end-to-end software supply chain security solutions at scale."
   ]
  },
  {
   "cell_type": "code",
   "execution_count": null,
   "metadata": {},
   "outputs": [],
   "source": [
    "BeyondCorp Enterprise\n",
    "Scalable zero-trust platform with integrated threat and data protection."
   ]
  },
  {
   "cell_type": "code",
   "execution_count": null,
   "metadata": {},
   "outputs": [],
   "source": [
    "Certificate Authority Service\n",
    "Simplify the deployment and management of private CAs."
   ]
  },
  {
   "cell_type": "code",
   "execution_count": null,
   "metadata": {},
   "outputs": [],
   "source": [
    "Titan Security Key\n",
    "Two-factor authentication device for user account protection."
   ]
  },
  {
   "cell_type": "code",
   "execution_count": null,
   "metadata": {},
   "outputs": [],
   "source": [
    "Cloud Armor\n",
    "Help protect your applications and websites against denial of service and web attacks."
   ]
  },
  {
   "cell_type": "code",
   "execution_count": null,
   "metadata": {},
   "outputs": [],
   "source": [
    "reCAPTCHA Enterprise\n",
    "Help protect your website from fraudulent activity, spam, and abuse."
   ]
  },
  {
   "cell_type": "code",
   "execution_count": null,
   "metadata": {},
   "outputs": [],
   "source": [
    "Identity Platform\n",
    "Add Google-grade identity and access management to your apps."
   ]
  },
  {
   "cell_type": "code",
   "execution_count": null,
   "metadata": {},
   "outputs": [],
   "source": [
    "Web Risk\n",
    "Detect malicious URLs on your website and in client applications."
   ]
  },
  {
   "cell_type": "code",
   "execution_count": null,
   "metadata": {},
   "outputs": [],
   "source": [
    "Mandiant Threat Intelligence\n",
    "Access the latest intel from the frontlines."
   ]
  },
  {
   "cell_type": "code",
   "execution_count": null,
   "metadata": {},
   "outputs": [],
   "source": [
    "Mandiant Attack Surface Management\n",
    "See your organization through the eyes of the attacker."
   ]
  },
  {
   "cell_type": "code",
   "execution_count": null,
   "metadata": {},
   "outputs": [],
   "source": [
    "Mandiant Digital Threat Monitoring\n",
    "Visibility into deep, dark, and open web."
   ]
  },
  {
   "cell_type": "code",
   "execution_count": null,
   "metadata": {},
   "outputs": [],
   "source": [
    "Mandiant Security Validation\n",
    "Know your security can be effective against today's adversaries."
   ]
  },
  {
   "cell_type": "code",
   "execution_count": null,
   "metadata": {},
   "outputs": [],
   "source": [
    "Mandiant Ransomware Defense Validation\n",
    "Understand your ability to withstand a ransomware attack.\n"
   ]
  },
  {
   "cell_type": "code",
   "execution_count": null,
   "metadata": {},
   "outputs": [],
   "source": [
    "Virus Total\n",
    "Unique visibility into threats."
   ]
  },
  {
   "cell_type": "code",
   "execution_count": null,
   "metadata": {},
   "outputs": [],
   "source": [
    "Chronicle SIEM\n",
    "Deliver modern threat detection, investigation, and hunting at \n",
    "unprecedented speed and scale—all at a predictable price point."
   ]
  },
  {
   "cell_type": "code",
   "execution_count": null,
   "metadata": {},
   "outputs": [],
   "source": [
    "Chronicle SOAR\n",
    "Enable modern, fast, and effective response by combining playbook automation,\n",
    "case management, and integrated threat intelligence."
   ]
  },
  {
   "cell_type": "code",
   "execution_count": null,
   "metadata": {},
   "outputs": [],
   "source": [
    "Mandiant Automated Defense\n",
    "100% of tracked security events investigated at machine speed, scale, and consistency."
   ]
  },
  {
   "cell_type": "code",
   "execution_count": null,
   "metadata": {},
   "outputs": [],
   "source": [
    "Mandiant Managed Detection and Response\n",
    "Help find and eliminate threats with confidence 24/7."
   ]
  },
  {
   "cell_type": "code",
   "execution_count": null,
   "metadata": {},
   "outputs": [],
   "source": [
    "Mandiant Breach Analytics for Chronicle\n",
    "Know about a potential breach when we know it, in real time."
   ]
  },
  {
   "cell_type": "code",
   "execution_count": null,
   "metadata": {},
   "outputs": [],
   "source": [
    "Mandiant Incident Response Services\n",
    "Help tackle breaches rapidly and confidently."
   ]
  },
  {
   "cell_type": "code",
   "execution_count": null,
   "metadata": {},
   "outputs": [],
   "source": [
    "Mandiant Consulting Services\n",
    "Mitigate cyber threats and reduce business risk with the help of frontline experts."
   ]
  },
  {
   "cell_type": "code",
   "execution_count": null,
   "metadata": {},
   "outputs": [],
   "source": [
    "Mandiant Expertise on Demand\n",
    "Access to cyber security expertise when you need it."
   ]
  },
  {
   "cell_type": "code",
   "execution_count": null,
   "metadata": {},
   "outputs": [],
   "source": [
    "Mandiant Academy\n",
    "Cybersecurity training, incident response and threat intelligence\n",
    "certifications, and hands-on cyber range."
   ]
  },
  {
   "cell_type": "code",
   "execution_count": null,
   "metadata": {},
   "outputs": [],
   "source": [
    "App Engine\n",
    "Serverless application platform for apps and back ends."
   ]
  },
  {
   "cell_type": "code",
   "execution_count": null,
   "metadata": {},
   "outputs": [],
   "source": [
    "Cloud Functions\n",
    "Platform for creating functions that respond to cloud events."
   ]
  },
  {
   "cell_type": "code",
   "execution_count": null,
   "metadata": {},
   "outputs": [],
   "source": [
    "Cloud Run\n",
    "Fully managed environment for running containerized apps."
   ]
  },
  {
   "cell_type": "code",
   "execution_count": null,
   "metadata": {},
   "outputs": [],
   "source": [
    "Workflows\n",
    "Workflow orchestration for serverless products and API services."
   ]
  },
  {
   "cell_type": "code",
   "execution_count": null,
   "metadata": {},
   "outputs": [],
   "source": [
    "Storage Transfer Service\n",
    "Tools and services for transferring your data to Google Cloud."
   ]
  },
  {
   "cell_type": "code",
   "execution_count": null,
   "metadata": {},
   "outputs": [],
   "source": [
    "Cloud Storage\n",
    "Object storage that’s secure, durable, and scalable."
   ]
  },
  {
   "cell_type": "code",
   "execution_count": null,
   "metadata": {},
   "outputs": [],
   "source": [
    "Cloud Storage for Firebase\n",
    "Object storage for storing and serving user-generated content."
   ]
  },
  {
   "cell_type": "code",
   "execution_count": null,
   "metadata": {},
   "outputs": [],
   "source": [
    "Filestore\n",
    "File storage that is highly scalable and secure."
   ]
  },
  {
   "cell_type": "code",
   "execution_count": null,
   "metadata": {},
   "outputs": [],
   "source": [
    "Google Workspace Essentials\n",
    "Cloud-based file sharing, content collaboration, and storage."
   ]
  },
  {
   "cell_type": "code",
   "execution_count": null,
   "metadata": {},
   "outputs": [],
   "source": [
    "Local SSD\n",
    "Block storage that is locally attached for high-performance needs."
   ]
  },
  {
   "cell_type": "code",
   "execution_count": null,
   "metadata": {},
   "outputs": [],
   "source": [
    "Persistent Disk\n",
    "Block storage for virtual machine instances running on Google Cloud."
   ]
  },
  {
   "cell_type": "code",
   "execution_count": null,
   "metadata": {},
   "outputs": [],
   "source": [
    "Google Cloud Backup and DR\n",
    "Managed backup and disaster recovery for application-consistent data protection."
   ]
  },
  {
   "cell_type": "code",
   "execution_count": null,
   "metadata": {},
   "outputs": [],
   "source": [
    "Blockchain Node Engine\n",
    "Fully managed node hosting for developing on the blockchain\n"
   ]
  },
  {
   "cell_type": "code",
   "execution_count": null,
   "metadata": {},
   "outputs": [],
   "source": [
    "Google Workspace\n",
    "Google Workspace brings together the apps loved by billions of people—Gmail, Chat, Calendar, Drive, \n",
    "Docs, Sheets, Meet, and more—into a single integrated workspace."
   ]
  },
  {
   "cell_type": "code",
   "execution_count": null,
   "metadata": {},
   "outputs": [],
   "source": [
    "Google Maps Platform\n",
    "Create immersive location experiences and improve your business\n",
    "operations with real-time, comprehensive data."
   ]
  },
  {
   "cell_type": "code",
   "execution_count": null,
   "metadata": {},
   "outputs": [],
   "source": [
    "Chrome Enterprise\n",
    "Google Chrome Enterprise provides the OS, browser, and devices \n",
    "your business needs to cloud-power your workforce."
   ]
  },
  {
   "cell_type": "markdown",
   "metadata": {},
   "source": [
    "# AZURE Services ONLY"
   ]
  },
  {
   "cell_type": "code",
   "execution_count": null,
   "metadata": {},
   "outputs": [],
   "source": [
    "Anomaly Detector\n",
    "Easily add anomaly detection capabilities to your apps."
   ]
  },
  {
   "cell_type": "code",
   "execution_count": null,
   "metadata": {},
   "outputs": [],
   "source": [
    "Azure Cognitive Search\n",
    "Enterprise scale search for app development"
   ]
  },
  {
   "cell_type": "code",
   "execution_count": null,
   "metadata": {},
   "outputs": [],
   "source": [
    "Azure Machine Learning\n",
    "Use an enterprise-grade service for the end-to-end machine learning lifecycle"
   ]
  },
  {
   "cell_type": "code",
   "execution_count": null,
   "metadata": {},
   "outputs": [],
   "source": [
    "Azure Cognitive Services\n",
    "Add cognitive capabilities to apps with APIs and AI services"
   ]
  },
  {
   "cell_type": "code",
   "execution_count": null,
   "metadata": {},
   "outputs": [],
   "source": [
    "Azure AI Content Safety PREVIEW\n",
    "Use AI to monitor text and image content for safety"
   ]
  },
  {
   "cell_type": "code",
   "execution_count": null,
   "metadata": {},
   "outputs": [],
   "source": [
    "Data Science Virtual Machines\n",
    "Rich pre-configured environment for AI development"
   ]
  },
  {
   "cell_type": "code",
   "execution_count": null,
   "metadata": {},
   "outputs": [],
   "source": [
    "Azure Immersive Reader\n",
    "Empower users of all ages and abilities to read and comprehend text"
   ]
  },
  {
   "cell_type": "code",
   "execution_count": null,
   "metadata": {},
   "outputs": [],
   "source": [
    "Language Understanding (LUIS)\n",
    "Teach your apps to understand commands from your users"
   ]
  },
  {
   "cell_type": "code",
   "execution_count": null,
   "metadata": {},
   "outputs": [],
   "source": [
    "Personalizer\n",
    "Deliver personalized, relevant experiences for each of your users"
   ]
  },
  {
   "cell_type": "code",
   "execution_count": null,
   "metadata": {},
   "outputs": [],
   "source": [
    "QnA Maker\n",
    "Distill information into conversational, easy-to-navigate answers"
   ]
  },
  {
   "cell_type": "code",
   "execution_count": null,
   "metadata": {},
   "outputs": [],
   "source": [
    "Speech to text\n",
    "A Speech service feature that accurately converts spoken audio to text"
   ]
  },
  {
   "cell_type": "code",
   "execution_count": null,
   "metadata": {},
   "outputs": [],
   "source": [
    "Cognitive Service for Language\n",
    "Add natural language capabilities with a single API call"
   ]
  },
  {
   "cell_type": "code",
   "execution_count": null,
   "metadata": {},
   "outputs": [],
   "source": [
    "Translator\n",
    "Easily conduct machine translation with a simple REST API call"
   ]
  },
  {
   "cell_type": "code",
   "execution_count": null,
   "metadata": {},
   "outputs": [],
   "source": [
    "Health Bot\n",
    "A managed service purpose-built for development of virtual healthcare assistants"
   ]
  },
  {
   "cell_type": "code",
   "execution_count": null,
   "metadata": {},
   "outputs": [],
   "source": [
    "Azure OpenAI Service\n",
    "Apply advanced coding and language models to a variety of use cases"
   ]
  },
  {
   "cell_type": "code",
   "execution_count": null,
   "metadata": {},
   "outputs": [],
   "source": [
    "Azure Bot Services\n",
    "Create bots and connect them across channels"
   ]
  },
  {
   "cell_type": "code",
   "execution_count": null,
   "metadata": {},
   "outputs": [],
   "source": [
    "Azure Databricks\n",
    "Design AI with Apache Spark™-based analytics"
   ]
  },
  {
   "cell_type": "code",
   "execution_count": null,
   "metadata": {},
   "outputs": [],
   "source": [
    "Azure Open Datasets\n",
    "Cloud platform to host and share curated open datasets to accelerate \n",
    "development of machine learning models"
   ]
  },
  {
   "cell_type": "code",
   "execution_count": null,
   "metadata": {},
   "outputs": [],
   "source": [
    "Azure Video Indexer\n",
    "Easily extract meaningful insights from audio and video files using media AI"
   ]
  },
  {
   "cell_type": "code",
   "execution_count": null,
   "metadata": {},
   "outputs": [],
   "source": [
    "Custom Vision\n",
    "Easily customize your own state-of-the-art computer vision models for your unique use case"
   ]
  },
  {
   "cell_type": "code",
   "execution_count": null,
   "metadata": {},
   "outputs": [],
   "source": [
    "Azure Form Recognizer\n",
    "Accelerate information extraction from documents"
   ]
  },
  {
   "cell_type": "code",
   "execution_count": null,
   "metadata": {},
   "outputs": [],
   "source": [
    "Kinect DK\n",
    "Build for mixed reality using AI sensors"
   ]
  },
  {
   "cell_type": "code",
   "execution_count": null,
   "metadata": {},
   "outputs": [],
   "source": [
    "Microsoft Genomics\n",
    "Power genome sequencing & research insights"
   ]
  },
  {
   "cell_type": "code",
   "execution_count": null,
   "metadata": {},
   "outputs": [],
   "source": [
    "Project Bonsai PREVIEW\n",
    "Create intelligent industrial control systems using simulations"
   ]
  },
  {
   "cell_type": "code",
   "execution_count": null,
   "metadata": {},
   "outputs": [],
   "source": [
    "Speaker recognition\n",
    "A Speech service feature that verifies and identifies speakers"
   ]
  },
  {
   "cell_type": "code",
   "execution_count": null,
   "metadata": {},
   "outputs": [],
   "source": [
    "Speech translation\n",
    "Easily integrate real-time speech translation to your app"
   ]
  },
  {
   "cell_type": "code",
   "execution_count": null,
   "metadata": {},
   "outputs": [],
   "source": [
    "Text to speech\n",
    "A Speech service feature that converts text to lifelike speech"
   ]
  },
  {
   "cell_type": "code",
   "execution_count": null,
   "metadata": {},
   "outputs": [],
   "source": [
    "Azure Metrics Advisor\n",
    "An AI service that monitors metrics and diagnoses issues"
   ]
  },
  {
   "cell_type": "code",
   "execution_count": null,
   "metadata": {},
   "outputs": [],
   "source": [
    "Azure Applied AI Services\n",
    "Specialized services that enable organizations to accelerate time to\n",
    "value in applying AI to solve common scenarios"
   ]
  },
  {
   "cell_type": "code",
   "execution_count": null,
   "metadata": {},
   "outputs": [],
   "source": [
    "Azure Cognitive Services for Vision PREVIEW\n",
    "Unlock insights from image and video content with AI"
   ]
  },
  {
   "cell_type": "code",
   "execution_count": null,
   "metadata": {},
   "outputs": [],
   "source": [
    "Azure Analysis Services\n",
    "Enterprise-grade analytics engine as a service"
   ]
  },
  {
   "cell_type": "code",
   "execution_count": null,
   "metadata": {},
   "outputs": [],
   "source": [
    "Azure Data Factory\n",
    "Hybrid data integration at enterprise scale, made easy"
   ]
  },
  {
   "cell_type": "code",
   "execution_count": null,
   "metadata": {},
   "outputs": [],
   "source": [
    "Azure Data Lake Storage Gen1\n",
    "Hyperscale repository for big data analytics workloads"
   ]
  },
  {
   "cell_type": "code",
   "execution_count": null,
   "metadata": {},
   "outputs": [],
   "source": [
    "Azure Databricks\n",
    "Design AI with Apache Spark™-based analytics"
   ]
  },
  {
   "cell_type": "code",
   "execution_count": null,
   "metadata": {},
   "outputs": [],
   "source": [
    "Azure Synapse Analytics\n",
    "Limitless analytics with unmatched time to insight"
   ]
  },
  {
   "cell_type": "code",
   "execution_count": null,
   "metadata": {},
   "outputs": [],
   "source": [
    "Data Lake Analytics\n",
    "Distributed analytics service that makes big data easy"
   ]
  },
  {
   "cell_type": "code",
   "execution_count": null,
   "metadata": {},
   "outputs": [],
   "source": [
    "HDInsight\n",
    "Provision cloud Hadoop, Spark, R Server, HBase, and Storm clusters"
   ]
  },
  {
   "cell_type": "code",
   "execution_count": null,
   "metadata": {},
   "outputs": [],
   "source": [
    "R Server for HDInsight\n",
    "Predictive analytics, machine learning, and statistical modeling for big data"
   ]
  },
  {
   "cell_type": "code",
   "execution_count": null,
   "metadata": {},
   "outputs": [],
   "source": [
    "Microsoft Graph Data Connect PREVIEW\n",
    "A secure, high-throughput connector designed to copy select\n",
    "Microsoft 365 productivity datasets into your Azure tenant"
   ]
  },
  {
   "cell_type": "code",
   "execution_count": null,
   "metadata": {},
   "outputs": [],
   "source": [
    "Azure Operator Insights PREVIEW\n",
    "Remove data silos and deliver business insights from massive datasets"
   ]
  },
  {
   "cell_type": "code",
   "execution_count": null,
   "metadata": {},
   "outputs": [],
   "source": [
    "Azure Data Explorer\n",
    "Fast and highly scalable data exploration service"
   ]
  },
  {
   "cell_type": "code",
   "execution_count": null,
   "metadata": {},
   "outputs": [],
   "source": [
    "Azure Data Lake Storage\n",
    "Scalable, secure data lake for high-performance analytics"
   ]
  },
  {
   "cell_type": "code",
   "execution_count": null,
   "metadata": {},
   "outputs": [],
   "source": [
    "Azure Data Share\n",
    "A simple and safe service for sharing big data with external organizations"
   ]
  },
  {
   "cell_type": "code",
   "execution_count": null,
   "metadata": {},
   "outputs": [],
   "source": [
    "Azure Stream Analytics\n",
    "Real-time analytics on fast-moving streaming data"
   ]
  },
  {
   "cell_type": "code",
   "execution_count": null,
   "metadata": {},
   "outputs": [],
   "source": [
    "Data Catalog\n",
    "Get more value from your enterprise data assets"
   ]
  },
  {
   "cell_type": "code",
   "execution_count": null,
   "metadata": {},
   "outputs": [],
   "source": [
    "Event Hubs\n",
    "Receive telemetry from millions of devices"
   ]
  },
  {
   "cell_type": "code",
   "execution_count": null,
   "metadata": {},
   "outputs": [],
   "source": [
    "Power BI Embedded\n",
    "White label Power BI to quickly and easily provide exceptional customer\n",
    "facing dashboards and analytics in your own applications"
   ]
  },
  {
   "cell_type": "code",
   "execution_count": null,
   "metadata": {},
   "outputs": [],
   "source": [
    "Microsoft Purview\n",
    "Govern, protect, and manage your data estate"
   ]
  },
  {
   "cell_type": "code",
   "execution_count": null,
   "metadata": {},
   "outputs": [],
   "source": [
    "Azure Chaos Studio PREVIEW\n",
    "Improve application resilience by introducing faults and simulating outages"
   ]
  },
  {
   "cell_type": "code",
   "execution_count": null,
   "metadata": {},
   "outputs": [],
   "source": [
    "Azure Operator Service Manager PREVIEW\n",
    "Simplify the deployment, upgrade, and management of complex operator services"
   ]
  },
  {
   "cell_type": "code",
   "execution_count": null,
   "metadata": {},
   "outputs": [],
   "source": [
    "App Service\n",
    "Quickly create powerful cloud apps for web and mobile"
   ]
  },
  {
   "cell_type": "code",
   "execution_count": null,
   "metadata": {},
   "outputs": [],
   "source": [
    "Azure Quantum\n",
    "Jump in and explore a diverse selection of today's \n",
    "quantum hardware, software, and solutions"
   ]
  },
  {
   "cell_type": "code",
   "execution_count": null,
   "metadata": {},
   "outputs": [],
   "source": [
    "Azure Spring Apps\n",
    "Build and deploy Spring Boot applications with a fully managed service from Microsoft and VMware"
   ]
  },
  {
   "cell_type": "code",
   "execution_count": null,
   "metadata": {},
   "outputs": [],
   "source": [
    "Batch\n",
    "Cloud-scale job scheduling and compute management"
   ]
  },
  {
   "cell_type": "code",
   "execution_count": null,
   "metadata": {},
   "outputs": [],
   "source": [
    "Linux Virtual Machines\n",
    "Provision virtual machines for Ubuntu, Red Hat, and more"
   ]
  },
  {
   "cell_type": "code",
   "execution_count": null,
   "metadata": {},
   "outputs": [],
   "source": [
    "Static Web Apps\n",
    "Streamlined full-stack development from source code to global high availability"
   ]
  },
  {
   "cell_type": "code",
   "execution_count": null,
   "metadata": {},
   "outputs": [],
   "source": [
    "Virtual Machines\n",
    "Provision Windows and Linux VMs in seconds"
   ]
  },
  {
   "cell_type": "code",
   "execution_count": null,
   "metadata": {},
   "outputs": [],
   "source": [
    "Windows Virtual Machines\n",
    "Provision virtual machines for SQL Server, SharePoint, and more"
   ]
  },
  {
   "cell_type": "code",
   "execution_count": null,
   "metadata": {},
   "outputs": [],
   "source": [
    "Azure VM Image Builder\n",
    "Simplify your image building process with easy to use tool"
   ]
  },
  {
   "cell_type": "code",
   "execution_count": null,
   "metadata": {},
   "outputs": [],
   "source": [
    "Azure Container Apps\n",
    "Build and deploy modern apps and microservices using serverless containers"
   ]
  },
  {
   "cell_type": "code",
   "execution_count": null,
   "metadata": {},
   "outputs": [],
   "source": [
    "Azure Container Instances\n",
    "Launch containers with hypervisor isolation"
   ]
  },
  {
   "cell_type": "code",
   "execution_count": null,
   "metadata": {},
   "outputs": [],
   "source": [
    "Azure CycleCloud\n",
    "Create, manage, operate, and optimize HPC and big compute clusters of any scale"
   ]
  },
  {
   "cell_type": "code",
   "execution_count": null,
   "metadata": {},
   "outputs": [],
   "source": [
    "Azure Spot Virtual Machines\n",
    "Provision unused compute capacity at deep discounts to run interruptible workloads"
   ]
  },
  {
   "cell_type": "code",
   "execution_count": null,
   "metadata": {},
   "outputs": [],
   "source": [
    "Azure VMware Solution\n",
    "Run your VMware workloads natively on Azure"
   ]
  },
  {
   "cell_type": "code",
   "execution_count": null,
   "metadata": {},
   "outputs": [],
   "source": [
    "Cloud Services\n",
    "Create highly-available, infinitely-scalable cloud applications and APIs"
   ]
  },
  {
   "cell_type": "code",
   "execution_count": null,
   "metadata": {},
   "outputs": [],
   "source": [
    "SQL Server on Azure Virtual Machines\n",
    "Migrate SQL Server workloads to the cloud at lower total cost of ownership (TCO)"
   ]
  },
  {
   "cell_type": "code",
   "execution_count": null,
   "metadata": {},
   "outputs": [],
   "source": [
    "Virtual Machine Scale Sets\n",
    "Manage and scale up to thousands of Linux and Windows VMs"
   ]
  },
  {
   "cell_type": "code",
   "execution_count": null,
   "metadata": {},
   "outputs": [],
   "source": [
    "Azure Virtual Desktop\n",
    "Enable a secure, remote desktop experience from anywhere"
   ]
  },
  {
   "cell_type": "code",
   "execution_count": null,
   "metadata": {},
   "outputs": [],
   "source": [
    "Azure Dedicated Host\n",
    "A dedicated physical server to host your Azure VMs for Windows and Linux"
   ]
  },
  {
   "cell_type": "code",
   "execution_count": null,
   "metadata": {},
   "outputs": [],
   "source": [
    "Azure Kubernetes Service (AKS)\n",
    "Deploy and scale containers on managed Kubernetes"
   ]
  },
  {
   "cell_type": "code",
   "execution_count": null,
   "metadata": {},
   "outputs": [],
   "source": [
    "Azure Functions\n",
    "Execute event-driven serverless code functions with an end-to-end development experience"
   ]
  },
  {
   "cell_type": "code",
   "execution_count": null,
   "metadata": {},
   "outputs": [],
   "source": [
    "Azure Service Fabric\n",
    "Deploy and operate always-on, scalable, distributed apps"
   ]
  },
  {
   "cell_type": "code",
   "execution_count": null,
   "metadata": {},
   "outputs": [],
   "source": [
    "App Configuration\n",
    "Fast, scalable parameter storage for app configuration"
   ]
  },
  {
   "cell_type": "code",
   "execution_count": null,
   "metadata": {},
   "outputs": [],
   "source": [
    "Azure Kubernetes Fleet Manager PREVIEW\n",
    "Seamlessly manage Kubernetes clusters at scale"
   ]
  },
  {
   "cell_type": "code",
   "execution_count": null,
   "metadata": {},
   "outputs": [],
   "source": [
    "Azure Container Apps\n",
    "Build and deploy modern apps and microservices using serverless containers"
   ]
  },
  {
   "cell_type": "code",
   "execution_count": null,
   "metadata": {},
   "outputs": [],
   "source": [
    "Web App for Containers\n",
    "Run containerized web apps on Windows and Linux"
   ]
  },
  {
   "cell_type": "code",
   "execution_count": null,
   "metadata": {},
   "outputs": [],
   "source": [
    "Azure Service Fabric\n",
    "Deploy and operate always-on, scalable, distributed apps"
   ]
  },
  {
   "cell_type": "code",
   "execution_count": null,
   "metadata": {},
   "outputs": [],
   "source": [
    "Azure Container Storage PREVIEW\n",
    "Manage persistent volumes for stateful container applications"
   ]
  },
  {
   "cell_type": "code",
   "execution_count": null,
   "metadata": {},
   "outputs": [],
   "source": [
    "Azure Kubernetes Service (AKS)\n",
    "Deploy and scale containers on managed Kubernetes"
   ]
  },
  {
   "cell_type": "code",
   "execution_count": null,
   "metadata": {},
   "outputs": [],
   "source": [
    "Azure Red Hat OpenShift\n",
    "Deploy and scale containers on managed Red Hat OpenShift"
   ]
  },
  {
   "cell_type": "code",
   "execution_count": null,
   "metadata": {},
   "outputs": [],
   "source": [
    "Azure Functions\n",
    "Execute event-driven serverless code functions with an end-to-end development experience"
   ]
  },
  {
   "cell_type": "code",
   "execution_count": null,
   "metadata": {},
   "outputs": [],
   "source": [
    "Azure Container Instances\n",
    "Launch containers with hypervisor isolation"
   ]
  },
  {
   "cell_type": "code",
   "execution_count": null,
   "metadata": {},
   "outputs": [],
   "source": [
    "Azure Container Registry\n",
    "Build, store, secure, and replicate container images and artifacts"
   ]
  },
  {
   "cell_type": "code",
   "execution_count": null,
   "metadata": {},
   "outputs": [],
   "source": [
    "Azure Cache for Redis\n",
    "Accelerate apps with high-throughput, low-latency data caching"
   ]
  },
  {
   "cell_type": "code",
   "execution_count": null,
   "metadata": {},
   "outputs": [],
   "source": [
    "Azure Data Factory\n",
    "Hybrid data integration at enterprise scale, made easy"
   ]
  },
  {
   "cell_type": "code",
   "execution_count": null,
   "metadata": {},
   "outputs": [],
   "source": [
    "Azure Database for MySQL\n",
    "Fully managed, scalable MySQL Database"
   ]
  },
  {
   "cell_type": "code",
   "execution_count": null,
   "metadata": {},
   "outputs": [],
   "source": [
    "Azure Database Migration Service\n",
    "Accelerate your data migration to Azure"
   ]
  },
  {
   "cell_type": "code",
   "execution_count": null,
   "metadata": {},
   "outputs": [],
   "source": [
    "Azure SQL Database\n",
    "Build apps that scale with managed and intelligent SQL database in the cloud"
   ]
  },
  {
   "cell_type": "code",
   "execution_count": null,
   "metadata": {},
   "outputs": [],
   "source": [
    "Azure SQL Managed Instance\n",
    "Modernize SQL Server applications with a managed, always-up-to-date SQL instance in the cloud"
   ]
  },
  {
   "cell_type": "code",
   "execution_count": null,
   "metadata": {},
   "outputs": [],
   "source": [
    "Table Storage\n",
    "NoSQL key-value store using semi-structured datasets"
   ]
  },
  {
   "cell_type": "code",
   "execution_count": null,
   "metadata": {},
   "outputs": [],
   "source": [
    "Azure confidential ledger\n",
    "Tamperproof, unstructured data store hosted in trusted execution environments \n",
    "(TEEs) and backed by cryptographically verifiable evidence"
   ]
  },
  {
   "cell_type": "code",
   "execution_count": null,
   "metadata": {},
   "outputs": [],
   "source": [
    "Azure Cosmos DB\n",
    "Build or modernize scalable, high-performance apps"
   ]
  },
  {
   "cell_type": "code",
   "execution_count": null,
   "metadata": {},
   "outputs": [],
   "source": [
    "Azure Database for MariaDB\n",
    "Deploy applications to the cloud with enterprise-ready, fully managed community MariaDB"
   ]
  },
  {
   "cell_type": "code",
   "execution_count": null,
   "metadata": {},
   "outputs": [],
   "source": [
    "Azure Database for PostgreSQL\n",
    "Fully managed, intelligent, and scalable PostgreSQL"
   ]
  },
  {
   "cell_type": "code",
   "execution_count": null,
   "metadata": {},
   "outputs": [],
   "source": [
    "Azure SQL\n",
    "Migrate, modernize, and innovate on the modern SQL family of cloud databases"
   ]
  },
  {
   "cell_type": "code",
   "execution_count": null,
   "metadata": {},
   "outputs": [],
   "source": [
    "Azure SQL Edge\n",
    "Consume Services privately on Azure Platform"
   ]
  },
  {
   "cell_type": "code",
   "execution_count": null,
   "metadata": {},
   "outputs": [],
   "source": [
    "SQL Server on Azure Virtual Machines\n",
    "Migrate SQL Server workloads to the cloud at lower total cost of ownership (TCO)"
   ]
  },
  {
   "cell_type": "code",
   "execution_count": null,
   "metadata": {},
   "outputs": [],
   "source": [
    "Azure Managed Instance for Apache Cassandra\n",
    "Modernize Cassandra data clusters with a managed instance in the cloud"
   ]
  },
  {
   "cell_type": "code",
   "execution_count": null,
   "metadata": {},
   "outputs": [],
   "source": [
    "App Configuration\n",
    "Fast, scalable parameter storage for app configuration"
   ]
  },
  {
   "cell_type": "code",
   "execution_count": null,
   "metadata": {},
   "outputs": [],
   "source": [
    "Azure DevTest Labs\n",
    "Quickly create environments using reusable templates and artifacts"
   ]
  },
  {
   "cell_type": "code",
   "execution_count": null,
   "metadata": {},
   "outputs": [],
   "source": [
    "SDKs\n",
    "Get the SDKs and command-line tools you need"
   ]
  },
  {
   "cell_type": "code",
   "execution_count": null,
   "metadata": {},
   "outputs": [],
   "source": [
    "Visual Studio Code\n",
    "A powerful, lightweight code editor for cloud development"
   ]
  },
  {
   "cell_type": "code",
   "execution_count": null,
   "metadata": {},
   "outputs": [],
   "source": [
    "Microsoft Dev Box PREVIEW\n",
    "Streamline development with secure, ready-to-code workstations in the cloud"
   ]
  },
  {
   "cell_type": "code",
   "execution_count": null,
   "metadata": {},
   "outputs": [],
   "source": [
    "Azure DevOps\n",
    "Services for teams to share code, track work, and ship software"
   ]
  },
  {
   "cell_type": "code",
   "execution_count": null,
   "metadata": {},
   "outputs": [],
   "source": [
    "Azure Pipelines\n",
    "Continuously build, test, and deploy to any platform and cloud"
   ]
  },
  {
   "cell_type": "code",
   "execution_count": null,
   "metadata": {},
   "outputs": [],
   "source": [
    "Visual Studio\n",
    "Powerful and flexible environment to develop apps in the cloud"
   ]
  },
  {
   "cell_type": "code",
   "execution_count": null,
   "metadata": {},
   "outputs": [],
   "source": [
    "Azure Load Testing\n",
    "Optimize app performance with high-scale load testing"
   ]
  },
  {
   "cell_type": "code",
   "execution_count": null,
   "metadata": {},
   "outputs": [],
   "source": [
    "Azure Deployment Environments\n",
    "Quickly spin up app infrastructure environments with project-based templates"
   ]
  },
  {
   "cell_type": "code",
   "execution_count": null,
   "metadata": {},
   "outputs": [],
   "source": [
    "Azure Artifacts\n",
    "Create, host, and share packages with your team"
   ]
  },
  {
   "cell_type": "code",
   "execution_count": null,
   "metadata": {},
   "outputs": [],
   "source": [
    "Azure DevOps\n",
    "Services for teams to share code, track work, and ship software"
   ]
  },
  {
   "cell_type": "code",
   "execution_count": null,
   "metadata": {},
   "outputs": [],
   "source": [
    "Azure Monitor\n",
    "Full observability into your applications, infrastructure, and network"
   ]
  },
  {
   "cell_type": "code",
   "execution_count": null,
   "metadata": {},
   "outputs": [],
   "source": [
    "Azure Repos\n",
    "Get unlimited, cloud-hosted private Git repos for your project"
   ]
  },
  {
   "cell_type": "code",
   "execution_count": null,
   "metadata": {},
   "outputs": [],
   "source": [
    "DevOps tool integrations\n",
    "Use your favorite DevOps tools with Azure"
   ]
  },
  {
   "cell_type": "code",
   "execution_count": null,
   "metadata": {},
   "outputs": [],
   "source": [
    "Azure Managed Grafana\n",
    "Deploy Grafana dashboards as a fully managed Azure service"
   ]
  },
  {
   "cell_type": "code",
   "execution_count": null,
   "metadata": {},
   "outputs": [],
   "source": [
    "Azure Deployment Environments\n",
    "Quickly spin up app infrastructure environments with project-based templates"
   ]
  },
  {
   "cell_type": "code",
   "execution_count": null,
   "metadata": {},
   "outputs": [],
   "source": [
    "Azure Boards\n",
    "Plan, track, and discuss work across your teams"
   ]
  },
  {
   "cell_type": "code",
   "execution_count": null,
   "metadata": {},
   "outputs": [],
   "source": [
    "Azure DevTest Labs\n",
    "Quickly create environments using reusable templates and artifacts"
   ]
  },
  {
   "cell_type": "code",
   "execution_count": null,
   "metadata": {},
   "outputs": [],
   "source": [
    "Azure Pipelines\n",
    "Continuously build, test, and deploy to any platform and cloud"
   ]
  },
  {
   "cell_type": "code",
   "execution_count": null,
   "metadata": {},
   "outputs": [],
   "source": [
    "Azure Test Plans\n",
    "Test and ship confidently with an exploratory test toolkit"
   ]
  },
  {
   "cell_type": "code",
   "execution_count": null,
   "metadata": {},
   "outputs": [],
   "source": [
    "Azure Load Testing\n",
    "Optimize app performance with high-scale load testing"
   ]
  },
  {
   "cell_type": "code",
   "execution_count": null,
   "metadata": {},
   "outputs": [],
   "source": [
    "Microsoft Dev Box PREVIEW\n",
    "Streamline development with secure, ready-to-code workstations in the cloud"
   ]
  },
  {
   "cell_type": "code",
   "execution_count": null,
   "metadata": {},
   "outputs": [],
   "source": [
    "GitHub Advanced Security for Azure DevOps PREVIEW\n",
    "Develop securely from inception to ship"
   ]
  },
  {
   "cell_type": "code",
   "execution_count": null,
   "metadata": {},
   "outputs": [],
   "source": [
    "Azure Active Directory (Azure AD)\n",
    "Synchronize on-premises directories and enable single sign-on"
   ]
  },
  {
   "cell_type": "code",
   "execution_count": null,
   "metadata": {},
   "outputs": [],
   "source": [
    "Azure Database for PostgreSQL\n",
    "Fully managed, intelligent, and scalable PostgreSQL"
   ]
  },
  {
   "cell_type": "code",
   "execution_count": null,
   "metadata": {},
   "outputs": [],
   "source": [
    "Azure ExpressRoute\n",
    "Experience a fast, reliable, and private connection to Azure"
   ]
  },
  {
   "cell_type": "code",
   "execution_count": null,
   "metadata": {},
   "outputs": [],
   "source": [
    "Microsoft Sentinel\n",
    "Cloud-native SIEM and intelligent security analytics"
   ]
  },
  {
   "cell_type": "code",
   "execution_count": null,
   "metadata": {},
   "outputs": [],
   "source": [
    "Azure SQL Edge\n",
    "Consume Services privately on Azure Platform"
   ]
  },
  {
   "cell_type": "code",
   "execution_count": null,
   "metadata": {},
   "outputs": [],
   "source": [
    "Azure Stack HCI\n",
    "Run your production workloads and cloud-native apps anywhere"
   ]
  },
  {
   "cell_type": "code",
   "execution_count": null,
   "metadata": {},
   "outputs": [],
   "source": [
    "Azure Stack Edge\n",
    "An Azure managed device that brings the compute, storage, and intelligence of Azure to the edge"
   ]
  },
  {
   "cell_type": "code",
   "execution_count": null,
   "metadata": {},
   "outputs": [],
   "source": [
    "Azure Kubernetes Service Edge Essentials\n",
    "Azure Kubernetes Service Edge Essentials is an on-premises Kubernetes\n",
    "implementation of Azure Kubernetes Service (AKS)\n",
    "that automates running containerized applications at scale."
   ]
  },
  {
   "cell_type": "code",
   "execution_count": null,
   "metadata": {},
   "outputs": [],
   "source": [
    "Azure Operator Service Manager PREVIEW\n",
    "Simplify the deployment, upgrade, and management of complex operator services"
   ]
  },
  {
   "cell_type": "code",
   "execution_count": null,
   "metadata": {},
   "outputs": [],
   "source": [
    "Azure Arc\n",
    "Secure, develop, and operate infrastructure, apps, and Azure services anywhere"
   ]
  },
  {
   "cell_type": "code",
   "execution_count": null,
   "metadata": {},
   "outputs": [],
   "source": [
    "Azure DevOps\n",
    "Services for teams to share code, track work, and ship software"
   ]
  },
  {
   "cell_type": "code",
   "execution_count": null,
   "metadata": {},
   "outputs": [],
   "source": [
    "Azure IoT Edge\n",
    "Extend cloud intelligence and analytics to edge devices"
   ]
  },
  {
   "cell_type": "code",
   "execution_count": null,
   "metadata": {},
   "outputs": [],
   "source": [
    "Azure SQL Database\n",
    "Build apps that scale with managed and intelligent SQL database in the cloud"
   ]
  },
  {
   "cell_type": "code",
   "execution_count": null,
   "metadata": {},
   "outputs": [],
   "source": [
    "Azure Stack\n",
    "Build and run innovative hybrid apps across cloud boundaries"
   ]
  },
  {
   "cell_type": "code",
   "execution_count": null,
   "metadata": {},
   "outputs": [],
   "source": [
    "Azure Stack Hub\n",
    "Azure Stack Hub is sold as an integrated hardware system, with software pre-installed on validated hardware"
   ]
  },
  {
   "cell_type": "code",
   "execution_count": null,
   "metadata": {},
   "outputs": [],
   "source": [
    "Azure Modular Datacenter\n",
    "A complete, rugged datacenter solution"
   ]
  },
  {
   "cell_type": "code",
   "execution_count": null,
   "metadata": {},
   "outputs": [],
   "source": [
    "Azure Operator Insights PREVIEW\n",
    "Remove data silos and deliver business insights from massive datasets"
   ]
  },
  {
   "cell_type": "code",
   "execution_count": null,
   "metadata": {},
   "outputs": [],
   "source": [
    "Azure Operator Nexus PREVIEW\n",
    "Discover a hybrid platform built for mission-critical mobile network\n",
    "applications and can support deployment of\n",
    "both containerized and virtualized network functions"
   ]
  },
  {
   "cell_type": "code",
   "execution_count": null,
   "metadata": {},
   "outputs": [],
   "source": [
    "Azure Active Directory (Azure AD)\n",
    "Synchronize on-premises directories and enable single sign-on"
   ]
  },
  {
   "cell_type": "code",
   "execution_count": null,
   "metadata": {},
   "outputs": [],
   "source": [
    "Azure Information Protection\n",
    "Better protect your sensitive information—anytime, anywhere"
   ]
  },
  {
   "cell_type": "code",
   "execution_count": null,
   "metadata": {},
   "outputs": [],
   "source": [
    "Azure Active Directory Domain Services\n",
    "Manage your domain controllers in the cloud"
   ]
  },
  {
   "cell_type": "code",
   "execution_count": null,
   "metadata": {},
   "outputs": [],
   "source": [
    "Azure Active Directory External Identities\n",
    "Consumer identity and access management in the cloud"
   ]
  },
  {
   "cell_type": "code",
   "execution_count": null,
   "metadata": {},
   "outputs": [],
   "source": [
    "API Management\n",
    "Publish APIs to developers, partners, and employees securely and at scale"
   ]
  },
  {
   "cell_type": "code",
   "execution_count": null,
   "metadata": {},
   "outputs": [],
   "source": [
    "Event Grid\n",
    "Reliable event delivery at massive scale"
   ]
  },
  {
   "cell_type": "code",
   "execution_count": null,
   "metadata": {},
   "outputs": [],
   "source": [
    "Service Bus\n",
    "Connect across private and public cloud environments"
   ]
  },
  {
   "cell_type": "code",
   "execution_count": null,
   "metadata": {},
   "outputs": [],
   "source": [
    "Azure Data Manager for Energy PREVIEW\n",
    "Fully managed enterprise-grade OSDU™ Data Platform"
   ]
  },
  {
   "cell_type": "code",
   "execution_count": null,
   "metadata": {},
   "outputs": [],
   "source": [
    "Azure Health Data Services\n",
    "Unify and manage health data and protected health information (PHI) in the cloud"
   ]
  },
  {
   "cell_type": "code",
   "execution_count": null,
   "metadata": {},
   "outputs": [],
   "source": [
    "Logic Apps\n",
    "Automate the access and use of data across clouds"
   ]
  },
  {
   "cell_type": "code",
   "execution_count": null,
   "metadata": {},
   "outputs": [],
   "source": [
    "Azure Web PubSub\n",
    "Easily build real-time messaging web applications using WebSockets and the publish-subscribe pattern"
   ]
  },
  {
   "cell_type": "code",
   "execution_count": null,
   "metadata": {},
   "outputs": [],
   "source": [
    "Microsoft Azure Data Manager for Agriculture PREVIEW\n",
    "Azure Data Manager for Agriculture extends the Microsoft Intelligent\n",
    "Data Platform with industry-specific data connectors and capabilities\n",
    "to bring together farm data from disparate sources, enabling organizations \n",
    "to leverage high quality datasets and accelerate the development\n",
    "of digital agriculture solutions"
   ]
  },
  {
   "cell_type": "code",
   "execution_count": null,
   "metadata": {},
   "outputs": [],
   "source": [
    "API Management\n",
    "Publish APIs to developers, partners, and employees securely and at scale"
   ]
  },
  {
   "cell_type": "code",
   "execution_count": null,
   "metadata": {},
   "outputs": [],
   "source": [
    "Azure Digital Twins\n",
    "Use IoT spatial intelligence to create models of physical environments"
   ]
  },
  {
   "cell_type": "code",
   "execution_count": null,
   "metadata": {},
   "outputs": [],
   "source": [
    "Azure IoT Edge\n",
    "Extend cloud intelligence and analytics to edge devices"
   ]
  },
  {
   "cell_type": "code",
   "execution_count": null,
   "metadata": {},
   "outputs": [],
   "source": [
    "Azure Machine Learning\n",
    "Use an enterprise-grade service for the end-to-end machine learning lifecycle"
   ]
  },
  {
   "cell_type": "code",
   "execution_count": null,
   "metadata": {},
   "outputs": [],
   "source": [
    "Azure RTOS\n",
    "Making embedded IoT development and connectivity easy"
   ]
  },
  {
   "cell_type": "code",
   "execution_count": null,
   "metadata": {},
   "outputs": [],
   "source": [
    "Azure SQL Edge\n",
    "Consume Services privately on Azure Platform"
   ]
  },
  {
   "cell_type": "code",
   "execution_count": null,
   "metadata": {},
   "outputs": [],
   "source": [
    "Azure Time Series Insights\n",
    "Visualize IoT data in real time"
   ]
  },
  {
   "cell_type": "code",
   "execution_count": null,
   "metadata": {},
   "outputs": [],
   "source": [
    "Kinect DK\n",
    "Build for mixed reality using AI sensors"
   ]
  },
  {
   "cell_type": "code",
   "execution_count": null,
   "metadata": {},
   "outputs": [],
   "source": [
    "Notification Hubs\n",
    "Send push notifications to any platform from any back end"
   ]
  },
  {
   "cell_type": "code",
   "execution_count": null,
   "metadata": {},
   "outputs": [],
   "source": [
    "Windows for IoT\n",
    "Build intelligent edge solutions with world-class \n",
    "developer tools, long-term support, and enterprise-grade security."
   ]
  },
  {
   "cell_type": "code",
   "execution_count": null,
   "metadata": {},
   "outputs": [],
   "source": [
    "Azure Cosmos DB\n",
    "Build or modernize scalable, high-performance apps"
   ]
  },
  {
   "cell_type": "code",
   "execution_count": null,
   "metadata": {},
   "outputs": [],
   "source": [
    "Azure IoT Central\n",
    "Go from proof of concept to proof of value"
   ]
  },
  {
   "cell_type": "code",
   "execution_count": null,
   "metadata": {},
   "outputs": [],
   "source": [
    "Azure IoT Hub\n",
    "Connect, monitor, and manage billions of IoT assets"
   ]
  },
  {
   "cell_type": "code",
   "execution_count": null,
   "metadata": {},
   "outputs": [],
   "source": [
    "Azure Maps\n",
    "Add location data and mapping visuals to business applications and solutions"
   ]
  },
  {
   "cell_type": "code",
   "execution_count": null,
   "metadata": {},
   "outputs": [],
   "source": [
    "Azure Sphere\n",
    "Create, connect, and maintain secured intelligent IoT devices from the edge to the cloud"
   ]
  },
  {
   "cell_type": "code",
   "execution_count": null,
   "metadata": {},
   "outputs": [],
   "source": [
    "Azure Stream Analytics\n",
    "Real-time analytics on fast-moving streaming data"
   ]
  },
  {
   "cell_type": "code",
   "execution_count": null,
   "metadata": {},
   "outputs": [],
   "source": [
    "Event Grid\n",
    "Reliable event delivery at massive scale"
   ]
  },
  {
   "cell_type": "code",
   "execution_count": null,
   "metadata": {},
   "outputs": [],
   "source": [
    "Logic Apps\n",
    "Automate the access and use of data across clouds"
   ]
  },
  {
   "cell_type": "code",
   "execution_count": null,
   "metadata": {},
   "outputs": [],
   "source": [
    "Windows 10 IoT Core Services\n",
    "Long-term OS support and services to manage device updates and assess device health"
   ]
  },
  {
   "cell_type": "code",
   "execution_count": null,
   "metadata": {},
   "outputs": [],
   "source": [
    "Azure Functions\n",
    "Execute event-driven serverless code functions with an end-to-end development experience"
   ]
  },
  {
   "cell_type": "code",
   "execution_count": null,
   "metadata": {},
   "outputs": [],
   "source": [
    "Automation\n",
    "Simplify cloud management with process automation"
   ]
  },
  {
   "cell_type": "code",
   "execution_count": null,
   "metadata": {},
   "outputs": [],
   "source": [
    "Defender External Attack Surface Management\n",
    "Safeguard the digital experience by discovering all internet-exposed\n",
    "resources with \n",
    "Microsoft Defender External Attack Surface Management (EASM)"
   ]
  },
  {
   "cell_type": "code",
   "execution_count": null,
   "metadata": {},
   "outputs": [],
   "source": [
    "Azure Blueprints PREVIEW\n",
    "Enabling quick, repeatable creation of governed environments"
   ]
  },
  {
   "cell_type": "code",
   "execution_count": null,
   "metadata": {},
   "outputs": [],
   "source": [
    "Azure Managed Applications\n",
    "Simplify management of cloud offerings"
   ]
  },
  {
   "cell_type": "code",
   "execution_count": null,
   "metadata": {},
   "outputs": [],
   "source": [
    "Azure mobile app\n",
    "Stay connected to your Azure resources—anytime, anywhere"
   ]
  },
  {
   "cell_type": "code",
   "execution_count": null,
   "metadata": {},
   "outputs": [],
   "source": [
    "Azure Policy\n",
    "Implement corporate governance and standards at scale"
   ]
  },
  {
   "cell_type": "code",
   "execution_count": null,
   "metadata": {},
   "outputs": [],
   "source": [
    "Azure Resource Manager templates\n",
    "Deliver infrastructure as code for all your Azure resources using Resource Manager"
   ]
  },
  {
   "cell_type": "code",
   "execution_count": null,
   "metadata": {},
   "outputs": [],
   "source": [
    "Azure Site Recovery\n",
    "Keep your business running with built-in disaster recovery service"
   ]
  },
  {
   "cell_type": "code",
   "execution_count": null,
   "metadata": {},
   "outputs": [],
   "source": [
    "Microsoft Cost Management\n",
    "Monitor, allocate, and optimize cloud costs with transparency, accuracy, and efficiency"
   ]
  },
  {
   "cell_type": "code",
   "execution_count": null,
   "metadata": {},
   "outputs": [],
   "source": [
    "Network Watcher\n",
    "Network performance monitoring and diagnostics solution"
   ]
  },
  {
   "cell_type": "code",
   "execution_count": null,
   "metadata": {},
   "outputs": [],
   "source": [
    "Azure Automanage\n",
    "Effortless automation of cloud and on-premises infrastructure"
   ]
  },
  {
   "cell_type": "code",
   "execution_count": null,
   "metadata": {},
   "outputs": [],
   "source": [
    "Microsoft Purview\n",
    "Govern, protect, and manage your data estate"
   ]
  },
  {
   "cell_type": "code",
   "execution_count": null,
   "metadata": {},
   "outputs": [],
   "source": [
    "Azure Managed Grafana\n",
    "Deploy Grafana dashboards as a fully managed Azure service"
   ]
  },
  {
   "cell_type": "code",
   "execution_count": null,
   "metadata": {},
   "outputs": [],
   "source": [
    "Azure Advisor\n",
    "Your personalized Azure best practices recommendation engine"
   ]
  },
  {
   "cell_type": "code",
   "execution_count": null,
   "metadata": {},
   "outputs": [],
   "source": [
    "Azure Backup\n",
    "Simplify data protection with built-in backup management at scale"
   ]
  },
  {
   "cell_type": "code",
   "execution_count": null,
   "metadata": {},
   "outputs": [],
   "source": [
    "Azure Lighthouse\n",
    "Empowering service providers to manage customers at scale and with precision"
   ]
  },
  {
   "cell_type": "code",
   "execution_count": null,
   "metadata": {},
   "outputs": [],
   "source": [
    "Azure Migrate\n",
    "Simplify migration and modernization with a unified platform"
   ]
  },
  {
   "cell_type": "code",
   "execution_count": null,
   "metadata": {},
   "outputs": [],
   "source": [
    "Azure Monitor\n",
    "Full observability into your applications, infrastructure, and network"
   ]
  },
  {
   "cell_type": "code",
   "execution_count": null,
   "metadata": {},
   "outputs": [],
   "source": [
    "Azure Resource Manager\n",
    "Simplify how you manage your app resources"
   ]
  },
  {
   "cell_type": "code",
   "execution_count": null,
   "metadata": {},
   "outputs": [],
   "source": [
    "Azure Service Health\n",
    "Personalized guidance and support for when issues in Azure services affect you"
   ]
  },
  {
   "cell_type": "code",
   "execution_count": null,
   "metadata": {},
   "outputs": [],
   "source": [
    "Cloud Shell\n",
    "Streamline Azure administration with a browser-based shell"
   ]
  },
  {
   "cell_type": "code",
   "execution_count": null,
   "metadata": {},
   "outputs": [],
   "source": [
    "Microsoft Azure portal\n",
    "Build, manage, and monitor all Azure products in a single, unified console"
   ]
  },
  {
   "cell_type": "code",
   "execution_count": null,
   "metadata": {},
   "outputs": [],
   "source": [
    "Traffic Manager\n",
    "Route incoming traffic for high performance and availability"
   ]
  },
  {
   "cell_type": "code",
   "execution_count": null,
   "metadata": {},
   "outputs": [],
   "source": [
    "Azure Resource Mover\n",
    "Simplify how you move multiple resources between Azure regions"
   ]
  },
  {
   "cell_type": "code",
   "execution_count": null,
   "metadata": {},
   "outputs": [],
   "source": [
    "Azure Chaos Studio PREVIEW\n",
    "Improve application resilience by introducing faults and simulating outages"
   ]
  },
  {
   "cell_type": "code",
   "execution_count": null,
   "metadata": {},
   "outputs": [],
   "source": [
    "Update management center PREVIEW\n",
    "Centrally manage updates and compliance at scale"
   ]
  },
  {
   "cell_type": "code",
   "execution_count": null,
   "metadata": {},
   "outputs": [],
   "source": [
    "Azure Media Player\n",
    "A single player for all your playback needs"
   ]
  },
  {
   "cell_type": "code",
   "execution_count": null,
   "metadata": {},
   "outputs": [],
   "source": [
    "Content Protection\n",
    "Securely deliver content using AES, PlayReady, Widevine, and Fairplay"
   ]
  },
  {
   "cell_type": "code",
   "execution_count": null,
   "metadata": {},
   "outputs": [],
   "source": [
    "Live and On-Demand Streaming\n",
    "Deliver content to virtually all devices with ability to scale"
   ]
  },
  {
   "cell_type": "code",
   "execution_count": null,
   "metadata": {},
   "outputs": [],
   "source": [
    "Content Delivery Network\n",
    "Fast, reliable content delivery network with global reach"
   ]
  },
  {
   "cell_type": "code",
   "execution_count": null,
   "metadata": {},
   "outputs": [],
   "source": [
    "Encoding\n",
    "Studio grade encoding at cloud scale"
   ]
  },
  {
   "cell_type": "code",
   "execution_count": null,
   "metadata": {},
   "outputs": [],
   "source": [
    "Media Services\n",
    "Encode, store, and stream video and audio at scale"
   ]
  },
  {
   "cell_type": "code",
   "execution_count": null,
   "metadata": {},
   "outputs": [],
   "source": [
    "Azure Database Migration Service\n",
    "Accelerate your data migration to Azure"
   ]
  },
  {
   "cell_type": "code",
   "execution_count": null,
   "metadata": {},
   "outputs": [],
   "source": [
    "Azure Site Recovery\n",
    "Keep your business running with built-in disaster recovery service"
   ]
  },
  {
   "cell_type": "code",
   "execution_count": null,
   "metadata": {},
   "outputs": [],
   "source": [
    "Azure Data Box\n",
    "Appliances and solutions for data transfer to Azure and edge compute"
   ]
  },
  {
   "cell_type": "code",
   "execution_count": null,
   "metadata": {},
   "outputs": [],
   "source": [
    "Azure Migrate\n",
    "Simplify migration and modernization with a unified platform"
   ]
  },
  {
   "cell_type": "code",
   "execution_count": null,
   "metadata": {},
   "outputs": [],
   "source": [
    "Microsoft Cost Management\n",
    "Monitor, allocate, and optimize cloud costs with transparency, accuracy, and efficiency"
   ]
  },
  {
   "cell_type": "code",
   "execution_count": null,
   "metadata": {},
   "outputs": [],
   "source": [
    "Azure Digital Twins\n",
    "Use IoT spatial intelligence to create models of physical environments"
   ]
  },
  {
   "cell_type": "code",
   "execution_count": null,
   "metadata": {},
   "outputs": [],
   "source": [
    "Remote Rendering\n",
    "Render high-quality, interactive 3D content with real-time streaming"
   ]
  },
  {
   "cell_type": "code",
   "execution_count": null,
   "metadata": {},
   "outputs": [],
   "source": [
    "Object Anchors PREVIEW\n",
    "Automatically align and anchor 3D content to objects in the physical world"
   ]
  },
  {
   "cell_type": "code",
   "execution_count": null,
   "metadata": {},
   "outputs": [],
   "source": [
    "Kinect DK\n",
    "Build for mixed reality using AI sensors"
   ]
  },
  {
   "cell_type": "code",
   "execution_count": null,
   "metadata": {},
   "outputs": [],
   "source": [
    "Spatial Anchors\n",
    "Create multi-user, spatially aware mixed reality experiences"
   ]
  },
  {
   "cell_type": "code",
   "execution_count": null,
   "metadata": {},
   "outputs": [],
   "source": [
    "API Management\n",
    "Publish APIs to developers, partners, and employees securely and at scale"
   ]
  },
  {
   "cell_type": "code",
   "execution_count": null,
   "metadata": {},
   "outputs": [],
   "source": [
    "App Service\n",
    "Quickly create powerful cloud apps for web and mobile"
   ]
  },
  {
   "cell_type": "code",
   "execution_count": null,
   "metadata": {},
   "outputs": [],
   "source": [
    "Azure Maps\n",
    "Add location data and mapping visuals to business applications and solutions"
   ]
  },
  {
   "cell_type": "code",
   "execution_count": null,
   "metadata": {},
   "outputs": [],
   "source": [
    "Notification Hubs\n",
    "Send push notifications to any platform from any back end"
   ]
  },
  {
   "cell_type": "code",
   "execution_count": null,
   "metadata": {},
   "outputs": [],
   "source": [
    "App Center\n",
    "Build, test, release, and monitor your mobile and desktop apps"
   ]
  },
  {
   "cell_type": "code",
   "execution_count": null,
   "metadata": {},
   "outputs": [],
   "source": [
    "Azure Communication Services\n",
    "Build multichannel communication experiences"
   ]
  },
  {
   "cell_type": "code",
   "execution_count": null,
   "metadata": {},
   "outputs": [],
   "source": [
    "App Configuration\n",
    "Fast, scalable parameter storage for app configuration"
   ]
  },
  {
   "cell_type": "code",
   "execution_count": null,
   "metadata": {},
   "outputs": [],
   "source": [
    "Azure Cognitive Search\n",
    "Enterprise scale search for app development"
   ]
  },
  {
   "cell_type": "code",
   "execution_count": null,
   "metadata": {},
   "outputs": [],
   "source": [
    "Azure Cognitive Services\n",
    "Add cognitive capabilities to apps with APIs and AI services"
   ]
  },
  {
   "cell_type": "code",
   "execution_count": null,
   "metadata": {},
   "outputs": [],
   "source": [
    "Spatial Anchors\n",
    "Create multi-user, spatially aware mixed reality experiences"
   ]
  },
  {
   "cell_type": "code",
   "execution_count": null,
   "metadata": {},
   "outputs": [],
   "source": [
    "Xamarin\n",
    "Create cloud-powered mobile apps faster"
   ]
  },
  {
   "cell_type": "code",
   "execution_count": null,
   "metadata": {},
   "outputs": [],
   "source": [
    "Application Gateway\n",
    "Build secure, scalable, highly available web front ends in Azure"
   ]
  },
  {
   "cell_type": "code",
   "execution_count": null,
   "metadata": {},
   "outputs": [],
   "source": [
    "Azure DDoS Protection\n",
    "Protect your Azure resources from distributed denial-of-service (DDoS) attacks"
   ]
  },
  {
   "cell_type": "code",
   "execution_count": null,
   "metadata": {},
   "outputs": [],
   "source": [
    "Azure ExpressRoute\n",
    "Experience a fast, reliable, and private connection to Azure"
   ]
  },
  {
   "cell_type": "code",
   "execution_count": null,
   "metadata": {},
   "outputs": [],
   "source": [
    "Load Balancer\n",
    "Deliver high availability and network performance to your apps"
   ]
  },
  {
   "cell_type": "code",
   "execution_count": null,
   "metadata": {},
   "outputs": [],
   "source": [
    "Azure Front Door\n",
    "Modern cloud CDN that delivers optimized experiences to your users anywhere"
   ]
  },
  {
   "cell_type": "code",
   "execution_count": null,
   "metadata": {},
   "outputs": [],
   "source": [
    "Azure Private Link\n",
    "Private access to services hosted on the Azure platform, keeping your data on the Microsoft network"
   ]
  },
  {
   "cell_type": "code",
   "execution_count": null,
   "metadata": {},
   "outputs": [],
   "source": [
    "Network Watcher\n",
    "Network performance monitoring and diagnostics solution"
   ]
  },
  {
   "cell_type": "code",
   "execution_count": null,
   "metadata": {},
   "outputs": [],
   "source": [
    "Virtual Network\n",
    "Create your own private network infrastructure in the cloud"
   ]
  },
  {
   "cell_type": "code",
   "execution_count": null,
   "metadata": {},
   "outputs": [],
   "source": [
    "Virtual WAN\n",
    "Optimize and automate branch to branch connectivity through Azure"
   ]
  },
  {
   "cell_type": "code",
   "execution_count": null,
   "metadata": {},
   "outputs": [],
   "source": [
    "Web Application Firewall\n",
    "A cloud-native web application firewall (WAF) service that provides powerful protection for web apps"
   ]
  },
  {
   "cell_type": "code",
   "execution_count": null,
   "metadata": {},
   "outputs": [],
   "source": [
    "Azure Route Server\n",
    "Enable network appliances to exchange routes dynamically with virtual networks in Azure"
   ]
  },
  {
   "cell_type": "code",
   "execution_count": null,
   "metadata": {},
   "outputs": [],
   "source": [
    "Azure Private 5G Core\n",
    "Rapidly deploy and manage private 5G networks at the enterprise edge"
   ]
  },
  {
   "cell_type": "code",
   "execution_count": null,
   "metadata": {},
   "outputs": [],
   "source": [
    "Azure Bastion\n",
    "Fully managed service that helps secure remote access to your virtual machines"
   ]
  },
  {
   "cell_type": "code",
   "execution_count": null,
   "metadata": {},
   "outputs": [],
   "source": [
    "Azure DNS\n",
    "Host your Domain Name System (DNS) domain in Azure"
   ]
  },
  {
   "cell_type": "code",
   "execution_count": null,
   "metadata": {},
   "outputs": [],
   "source": [
    "Azure Firewall\n",
    "Protect your Azure Virtual Network resources with cloud-native network security"
   ]
  },
  {
   "cell_type": "code",
   "execution_count": null,
   "metadata": {},
   "outputs": [],
   "source": [
    "Azure Firewall Manager\n",
    "Central network security policy and route management for globally distributed, software-defined perimeters"
   ]
  },
  {
   "cell_type": "code",
   "execution_count": null,
   "metadata": {},
   "outputs": [],
   "source": [
    "Azure Internet Analyzer PREVIEW\n",
    "Test how networking infrastructure changes will impact your customers' performance."
   ]
  },
  {
   "cell_type": "code",
   "execution_count": null,
   "metadata": {},
   "outputs": [],
   "source": [
    "Content Delivery Network\n",
    "Fast, reliable content delivery network with global reach"
   ]
  },
  {
   "cell_type": "code",
   "execution_count": null,
   "metadata": {},
   "outputs": [],
   "source": [
    "Traffic Manager\n",
    "Route incoming traffic for high performance and availability"
   ]
  },
  {
   "cell_type": "code",
   "execution_count": null,
   "metadata": {},
   "outputs": [],
   "source": [
    "Azure Virtual Network Manager\n",
    "Centrally manage virtual networks in Azure from a single pane of glass"
   ]
  },
  {
   "cell_type": "code",
   "execution_count": null,
   "metadata": {},
   "outputs": [],
   "source": [
    "VPN Gateway\n",
    "Establish secure, cross-premises connectivity"
   ]
  },
  {
   "cell_type": "code",
   "execution_count": null,
   "metadata": {},
   "outputs": [],
   "source": [
    "Azure Orbital Ground Station\n",
    "Rapidly ingest data from space into the cloud with a satellite ground station service"
   ]
  },
  {
   "cell_type": "code",
   "execution_count": null,
   "metadata": {},
   "outputs": [],
   "source": [
    "Azure Network Function Manager\n",
    "Extend Azure management for deploying 5G and SD-WAN network functions on edge devices"
   ]
  },
  {
   "cell_type": "code",
   "execution_count": null,
   "metadata": {},
   "outputs": [],
   "source": [
    "Azure Communications Gateway\n",
    "Rapidly connect your fixed and mobile networks with Microsoft Teams"
   ]
  },
  {
   "cell_type": "code",
   "execution_count": null,
   "metadata": {},
   "outputs": [],
   "source": [
    "App Configuration\n",
    "Fast, scalable parameter storage for app configuration"
   ]
  },
  {
   "cell_type": "code",
   "execution_count": null,
   "metadata": {},
   "outputs": [],
   "source": [
    "Azure Active Directory (Azure AD)\n",
    "Synchronize on-premises directories and enable single sign-on"
   ]
  },
  {
   "cell_type": "code",
   "execution_count": null,
   "metadata": {},
   "outputs": [],
   "source": [
    "Microsoft Defender for Cloud\n",
    "Protect your multi-cloud and hybrid environments"
   ]
  },
  {
   "cell_type": "code",
   "execution_count": null,
   "metadata": {},
   "outputs": [],
   "source": [
    "Azure Bastion\n",
    "Fully managed service that helps secure remote access to your virtual machines"
   ]
  },
  {
   "cell_type": "code",
   "execution_count": null,
   "metadata": {},
   "outputs": [],
   "source": [
    "Azure Dedicated HSM\n",
    "Manage hardware security modules that you use in the cloud"
   ]
  },
  {
   "cell_type": "code",
   "execution_count": null,
   "metadata": {},
   "outputs": [],
   "source": [
    "Azure Firewall Manager\n",
    "Central network security policy and route management for \n",
    "globally distributed, software-defined perimeters"
   ]
  },
  {
   "cell_type": "code",
   "execution_count": null,
   "metadata": {},
   "outputs": [],
   "source": [
    "Azure Information Protection\n",
    "Better protect your sensitive information—anytime, anywhere"
   ]
  },
  {
   "cell_type": "code",
   "execution_count": null,
   "metadata": {},
   "outputs": [],
   "source": [
    "Key Vault\n",
    "Safeguard and maintain control of keys and other secrets"
   ]
  },
  {
   "cell_type": "code",
   "execution_count": null,
   "metadata": {},
   "outputs": [],
   "source": [
    "Web Application Firewall\n",
    "A cloud-native web application firewall (WAF) service that \n",
    "provides powerful protection for web apps"
   ]
  },
  {
   "cell_type": "code",
   "execution_count": null,
   "metadata": {},
   "outputs": [],
   "source": [
    "Azure confidential ledger\n",
    "Tamperproof, unstructured data store hosted in trusted execution \n",
    "environments (TEEs) and backed by cryptographically verifiable evidence"
   ]
  },
  {
   "cell_type": "code",
   "execution_count": null,
   "metadata": {},
   "outputs": [],
   "source": [
    "Application Gateway\n",
    "Build secure, scalable, highly available web front ends in Azure"
   ]
  },
  {
   "cell_type": "code",
   "execution_count": null,
   "metadata": {},
   "outputs": [],
   "source": [
    "Azure Active Directory Domain Services\n",
    "Manage your domain controllers in the cloud"
   ]
  },
  {
   "cell_type": "code",
   "execution_count": null,
   "metadata": {},
   "outputs": [],
   "source": [
    "Defender External Attack Surface Management\n",
    "Safeguard the digital experience by discovering all internet-exposed resources\n",
    "with Microsoft Defender External Attack Surface Management (EASM)"
   ]
  },
  {
   "cell_type": "code",
   "execution_count": null,
   "metadata": {},
   "outputs": [],
   "source": [
    "Azure DDoS Protection\n",
    "Protect your Azure resources from distributed denial-of-service (DDoS) attacks"
   ]
  },
  {
   "cell_type": "code",
   "execution_count": null,
   "metadata": {},
   "outputs": [],
   "source": [
    "Azure Firewall\n",
    "Protect your Azure Virtual Network resources with cloud-native network security"
   ]
  },
  {
   "cell_type": "code",
   "execution_count": null,
   "metadata": {},
   "outputs": [],
   "source": [
    "Azure Front Door\n",
    "Modern cloud CDN that delivers optimized experiences to your users anywhere"
   ]
  },
  {
   "cell_type": "code",
   "execution_count": null,
   "metadata": {},
   "outputs": [],
   "source": [
    "Microsoft Sentinel\n",
    "Cloud-native SIEM and intelligent security analytics"
   ]
  },
  {
   "cell_type": "code",
   "execution_count": null,
   "metadata": {},
   "outputs": [],
   "source": [
    "VPN Gateway\n",
    "Establish secure, cross-premises connectivity"
   ]
  },
  {
   "cell_type": "code",
   "execution_count": null,
   "metadata": {},
   "outputs": [],
   "source": [
    "Microsoft Azure Attestation\n",
    "A unified solution for remotely verifying the trustworthiness\n",
    "of a platform and integrity of the binaries running inside it"
   ]
  },
  {
   "cell_type": "code",
   "execution_count": null,
   "metadata": {},
   "outputs": [],
   "source": [
    "Archive Storage\n",
    "Industry leading price point for storing rarely accessed data"
   ]
  },
  {
   "cell_type": "code",
   "execution_count": null,
   "metadata": {},
   "outputs": [],
   "source": [
    "Azure Backup\n",
    "Simplify data protection with built-in backup management at scale"
   ]
  },
  {
   "cell_type": "code",
   "execution_count": null,
   "metadata": {},
   "outputs": [],
   "source": [
    "Azure Data Lake Storage Gen1\n",
    "Hyperscale repository for big data analytics workloads"
   ]
  },
  {
   "cell_type": "code",
   "execution_count": null,
   "metadata": {},
   "outputs": [],
   "source": [
    "Azure Files\n",
    "Simple, secure and serverless enterprise-grade cloud file shares"
   ]
  },
  {
   "cell_type": "code",
   "execution_count": null,
   "metadata": {},
   "outputs": [],
   "source": [
    "Azure NetApp Files\n",
    "Enterprise-grade Azure file shares, powered by NetApp"
   ]
  },
  {
   "cell_type": "code",
   "execution_count": null,
   "metadata": {},
   "outputs": [],
   "source": [
    "Azure Data Box\n",
    "Appliances and solutions for data transfer to Azure and edge compute"
   ]
  },
  {
   "cell_type": "code",
   "execution_count": null,
   "metadata": {},
   "outputs": [],
   "source": [
    "Queue Storage\n",
    "Effectively scale apps according to traffic"
   ]
  },
  {
   "cell_type": "code",
   "execution_count": null,
   "metadata": {},
   "outputs": [],
   "source": [
    "Storage Explorer\n",
    "View and interact with Azure Storage resources"
   ]
  },
  {
   "cell_type": "code",
   "execution_count": null,
   "metadata": {},
   "outputs": [],
   "source": [
    "Azure confidential ledger\n",
    "Tamperproof, unstructured data store hosted in trusted execution environments (TEEs) \n",
    "and backed by cryptographically verifiable evidence"
   ]
  },
  {
   "cell_type": "code",
   "execution_count": null,
   "metadata": {},
   "outputs": [],
   "source": [
    "Azure Managed Lustre PREVIEW\n",
    "Azure Managed Lustre is a fully managed, cloud based parallel file system that enables customers to \n",
    "run their high performance computing (HPC) workloads in the cloud"
   ]
  },
  {
   "cell_type": "code",
   "execution_count": null,
   "metadata": {},
   "outputs": [],
   "source": [
    "Avere vFXT for Azure\n",
    "Run high-performance, file-based workloads in the cloud"
   ]
  },
  {
   "cell_type": "code",
   "execution_count": null,
   "metadata": {},
   "outputs": [],
   "source": [
    "Azure Data Lake Storage\n",
    "Scalable, secure data lake for high-performance analytics"
   ]
  },
  {
   "cell_type": "code",
   "execution_count": null,
   "metadata": {},
   "outputs": [],
   "source": [
    "Azure Data Share\n",
    "A simple and safe service for sharing big data with external organizations"
   ]
  },
  {
   "cell_type": "code",
   "execution_count": null,
   "metadata": {},
   "outputs": [],
   "source": [
    "Azure HPC Cache\n",
    "File caching for high-performance computing (HPC)"
   ]
  },
  {
   "cell_type": "code",
   "execution_count": null,
   "metadata": {},
   "outputs": [],
   "source": [
    "Azure Blob Storage\n",
    "Massively scalable and secure object storage"
   ]
  },
  {
   "cell_type": "code",
   "execution_count": null,
   "metadata": {},
   "outputs": [],
   "source": [
    "Azure Disk Storage\n",
    "High-performance, highly durable block storage"
   ]
  },
  {
   "cell_type": "code",
   "execution_count": null,
   "metadata": {},
   "outputs": [],
   "source": [
    "Storage Accounts\n",
    "Durable, highly available, and massively scalable cloud storage"
   ]
  },
  {
   "cell_type": "code",
   "execution_count": null,
   "metadata": {},
   "outputs": [],
   "source": [
    "StorSimple\n",
    "Lower costs with an enterprise hybrid cloud storage solution"
   ]
  },
  {
   "cell_type": "code",
   "execution_count": null,
   "metadata": {},
   "outputs": [],
   "source": [
    "Azure Elastic SAN PREVIEW\n",
    "Elastic SAN is a cloud-native storage area network (SAN) service built on Azure. \n",
    "Gain access to an end-to-end experience like your on-premises SAN"
   ]
  },
  {
   "cell_type": "code",
   "execution_count": null,
   "metadata": {},
   "outputs": [],
   "source": [
    "Azure Container Storage PREVIEW\n",
    "Manage persistent volumes for stateful container applications"
   ]
  },
  {
   "cell_type": "code",
   "execution_count": null,
   "metadata": {},
   "outputs": [],
   "source": [
    "Azure Lab Services\n",
    "Set up virtual labs for classes, training, hackathons, and other related scenarios"
   ]
  },
  {
   "cell_type": "code",
   "execution_count": null,
   "metadata": {},
   "outputs": [],
   "source": [
    "VMware Horizon Cloud on Microsoft Azure\n",
    "Provision Windows desktops and apps with VMware and Azure Virtual Desktop"
   ]
  },
  {
   "cell_type": "code",
   "execution_count": null,
   "metadata": {},
   "outputs": [],
   "source": [
    "Microsoft Dev Box PREVIEW\n",
    "Streamline development with secure, ready-to-code workstations in the cloud"
   ]
  },
  {
   "cell_type": "code",
   "execution_count": null,
   "metadata": {},
   "outputs": [],
   "source": [
    "Azure Virtual Desktop\n",
    "Enable a secure, remote desktop experience from anywhere"
   ]
  },
  {
   "cell_type": "code",
   "execution_count": null,
   "metadata": {},
   "outputs": [],
   "source": [
    "Citrix Virtual Apps and Desktops for Azure\n",
    "Provision Windows desktops and apps on Azure with Citrix and Azure Virtual Desktop"
   ]
  },
  {
   "cell_type": "code",
   "execution_count": null,
   "metadata": {},
   "outputs": [],
   "source": [
    "API Management\n",
    "Publish APIs to developers, partners, and employees securely and at scale"
   ]
  },
  {
   "cell_type": "code",
   "execution_count": null,
   "metadata": {},
   "outputs": [],
   "source": [
    "App Service\n",
    "Quickly create powerful cloud apps for web and mobile"
   ]
  },
  {
   "cell_type": "code",
   "execution_count": null,
   "metadata": {},
   "outputs": [],
   "source": [
    "Azure Maps\n",
    "Add location data and mapping visuals to business applications and solutions"
   ]
  },
  {
   "cell_type": "code",
   "execution_count": null,
   "metadata": {},
   "outputs": [],
   "source": [
    "Content Delivery Network\n",
    "Fast, reliable content delivery network with global reach"
   ]
  },
  {
   "cell_type": "code",
   "execution_count": null,
   "metadata": {},
   "outputs": [],
   "source": [
    "Static Web Apps\n",
    "Streamlined full-stack development from source code to global high availability"
   ]
  },
  {
   "cell_type": "code",
   "execution_count": null,
   "metadata": {},
   "outputs": [],
   "source": [
    "Azure Web PubSub\n",
    "Easily build real-time messaging web applications using WebSockets and the publish-subscribe pattern"
   ]
  },
  {
   "cell_type": "code",
   "execution_count": null,
   "metadata": {},
   "outputs": [],
   "source": [
    "Azure Container Apps\n",
    "Build and deploy modern apps and microservices using serverless containers"
   ]
  },
  {
   "cell_type": "code",
   "execution_count": null,
   "metadata": {},
   "outputs": [],
   "source": [
    "App Configuration\n",
    "Fast, scalable parameter storage for app configuration"
   ]
  },
  {
   "cell_type": "code",
   "execution_count": null,
   "metadata": {},
   "outputs": [],
   "source": [
    "Azure Cognitive Search\n",
    "Enterprise scale search for app development"
   ]
  },
  {
   "cell_type": "code",
   "execution_count": null,
   "metadata": {},
   "outputs": [],
   "source": [
    "Azure SignalR Service\n",
    "Add real-time web functionalities easily"
   ]
  },
  {
   "cell_type": "code",
   "execution_count": null,
   "metadata": {},
   "outputs": [],
   "source": [
    "Notification Hubs\n",
    "Send push notifications to any platform from any back end"
   ]
  },
  {
   "cell_type": "code",
   "execution_count": null,
   "metadata": {},
   "outputs": [],
   "source": [
    "Azure Communication Services\n",
    "Build multichannel communication experiences"
   ]
  },
  {
   "cell_type": "code",
   "execution_count": null,
   "metadata": {},
   "outputs": [],
   "source": [
    "Azure Fluid Relay\n",
    "Easily add real-time collaborative experiences to your apps with Fluid Framework"
   ]
  },
  {
   "cell_type": "code",
   "execution_count": null,
   "metadata": {},
   "outputs": [],
   "source": [
    "Web App for Containers\n",
    "Run containerized web apps on Windows and Linux"
   ]
  },
  {
   "cell_type": "markdown",
   "metadata": {},
   "source": [
    "# THE END "
   ]
  }
 ],
 "metadata": {
  "kernelspec": {
   "display_name": "Python 3 (ipykernel)",
   "language": "python",
   "name": "python3"
  },
  "language_info": {
   "codemirror_mode": {
    "name": "ipython",
    "version": 3
   },
   "file_extension": ".py",
   "mimetype": "text/x-python",
   "name": "python",
   "nbconvert_exporter": "python",
   "pygments_lexer": "ipython3",
   "version": "3.10.6"
  }
 },
 "nbformat": 4,
 "nbformat_minor": 2
}
